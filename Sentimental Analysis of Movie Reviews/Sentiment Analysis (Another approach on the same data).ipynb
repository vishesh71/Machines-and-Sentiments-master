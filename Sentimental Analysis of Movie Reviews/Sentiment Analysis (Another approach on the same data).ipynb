{
 "cells": [
  {
   "cell_type": "code",
   "execution_count": 2,
   "metadata": {},
   "outputs": [],
   "source": [
    "import numpy as np\n",
    "import pandas as pd\n",
    "\n",
    "import unicodedata, re, string\n",
    "import nltk\n",
    "\n",
    "import seaborn as sns\n",
    "sns.set(color_codes=True)\n",
    "\n",
    "import matplotlib.pyplot as plt\n",
    "import os\n"
   ]
  },
  {
   "cell_type": "code",
   "execution_count": 3,
   "metadata": {},
   "outputs": [],
   "source": [
    "df = pd.read_csv(r\"\\Users\\rusal\\Downloads\\1282_2303_bundle_archive/labeledTrainData.tsv\", sep=\"\\t\")\n"
   ]
  },
  {
   "cell_type": "code",
   "execution_count": 4,
   "metadata": {},
   "outputs": [
    {
     "name": "stdout",
     "output_type": "stream",
     "text": [
      "<class 'pandas.core.frame.DataFrame'>\n",
      "RangeIndex: 25000 entries, 0 to 24999\n",
      "Data columns (total 3 columns):\n",
      " #   Column     Non-Null Count  Dtype \n",
      "---  ------     --------------  ----- \n",
      " 0   id         25000 non-null  object\n",
      " 1   sentiment  25000 non-null  int64 \n",
      " 2   review     25000 non-null  object\n",
      "dtypes: int64(1), object(2)\n",
      "memory usage: 586.1+ KB\n"
     ]
    }
   ],
   "source": [
    "df.info()"
   ]
  },
  {
   "cell_type": "code",
   "execution_count": 5,
   "metadata": {},
   "outputs": [
    {
     "data": {
      "text/html": [
       "<div>\n",
       "<style scoped>\n",
       "    .dataframe tbody tr th:only-of-type {\n",
       "        vertical-align: middle;\n",
       "    }\n",
       "\n",
       "    .dataframe tbody tr th {\n",
       "        vertical-align: top;\n",
       "    }\n",
       "\n",
       "    .dataframe thead th {\n",
       "        text-align: right;\n",
       "    }\n",
       "</style>\n",
       "<table border=\"1\" class=\"dataframe\">\n",
       "  <thead>\n",
       "    <tr style=\"text-align: right;\">\n",
       "      <th></th>\n",
       "      <th>sentiment</th>\n",
       "    </tr>\n",
       "  </thead>\n",
       "  <tbody>\n",
       "    <tr>\n",
       "      <th>count</th>\n",
       "      <td>25000.00000</td>\n",
       "    </tr>\n",
       "    <tr>\n",
       "      <th>mean</th>\n",
       "      <td>0.50000</td>\n",
       "    </tr>\n",
       "    <tr>\n",
       "      <th>std</th>\n",
       "      <td>0.50001</td>\n",
       "    </tr>\n",
       "    <tr>\n",
       "      <th>min</th>\n",
       "      <td>0.00000</td>\n",
       "    </tr>\n",
       "    <tr>\n",
       "      <th>25%</th>\n",
       "      <td>0.00000</td>\n",
       "    </tr>\n",
       "    <tr>\n",
       "      <th>50%</th>\n",
       "      <td>0.50000</td>\n",
       "    </tr>\n",
       "    <tr>\n",
       "      <th>75%</th>\n",
       "      <td>1.00000</td>\n",
       "    </tr>\n",
       "    <tr>\n",
       "      <th>max</th>\n",
       "      <td>1.00000</td>\n",
       "    </tr>\n",
       "  </tbody>\n",
       "</table>\n",
       "</div>"
      ],
      "text/plain": [
       "         sentiment\n",
       "count  25000.00000\n",
       "mean       0.50000\n",
       "std        0.50001\n",
       "min        0.00000\n",
       "25%        0.00000\n",
       "50%        0.50000\n",
       "75%        1.00000\n",
       "max        1.00000"
      ]
     },
     "execution_count": 5,
     "metadata": {},
     "output_type": "execute_result"
    }
   ],
   "source": [
    "df.describe()"
   ]
  },
  {
   "cell_type": "code",
   "execution_count": 6,
   "metadata": {},
   "outputs": [
    {
     "data": {
      "text/html": [
       "<div>\n",
       "<style scoped>\n",
       "    .dataframe tbody tr th:only-of-type {\n",
       "        vertical-align: middle;\n",
       "    }\n",
       "\n",
       "    .dataframe tbody tr th {\n",
       "        vertical-align: top;\n",
       "    }\n",
       "\n",
       "    .dataframe thead th {\n",
       "        text-align: right;\n",
       "    }\n",
       "</style>\n",
       "<table border=\"1\" class=\"dataframe\">\n",
       "  <thead>\n",
       "    <tr style=\"text-align: right;\">\n",
       "      <th></th>\n",
       "      <th>id</th>\n",
       "      <th>sentiment</th>\n",
       "      <th>review</th>\n",
       "    </tr>\n",
       "  </thead>\n",
       "  <tbody>\n",
       "    <tr>\n",
       "      <th>0</th>\n",
       "      <td>5814_8</td>\n",
       "      <td>1</td>\n",
       "      <td>With all this stuff going down at the moment w...</td>\n",
       "    </tr>\n",
       "    <tr>\n",
       "      <th>1</th>\n",
       "      <td>2381_9</td>\n",
       "      <td>1</td>\n",
       "      <td>\\The Classic War of the Worlds\\\" by Timothy Hi...</td>\n",
       "    </tr>\n",
       "    <tr>\n",
       "      <th>2</th>\n",
       "      <td>7759_3</td>\n",
       "      <td>0</td>\n",
       "      <td>The film starts with a manager (Nicholas Bell)...</td>\n",
       "    </tr>\n",
       "    <tr>\n",
       "      <th>3</th>\n",
       "      <td>3630_4</td>\n",
       "      <td>0</td>\n",
       "      <td>It must be assumed that those who praised this...</td>\n",
       "    </tr>\n",
       "    <tr>\n",
       "      <th>4</th>\n",
       "      <td>9495_8</td>\n",
       "      <td>1</td>\n",
       "      <td>Superbly trashy and wondrously unpretentious 8...</td>\n",
       "    </tr>\n",
       "  </tbody>\n",
       "</table>\n",
       "</div>"
      ],
      "text/plain": [
       "       id  sentiment                                             review\n",
       "0  5814_8          1  With all this stuff going down at the moment w...\n",
       "1  2381_9          1  \\The Classic War of the Worlds\\\" by Timothy Hi...\n",
       "2  7759_3          0  The film starts with a manager (Nicholas Bell)...\n",
       "3  3630_4          0  It must be assumed that those who praised this...\n",
       "4  9495_8          1  Superbly trashy and wondrously unpretentious 8..."
      ]
     },
     "execution_count": 6,
     "metadata": {},
     "output_type": "execute_result"
    }
   ],
   "source": [
    "df.head()"
   ]
  },
  {
   "cell_type": "code",
   "execution_count": 7,
   "metadata": {},
   "outputs": [
    {
     "data": {
      "text/plain": [
       "<matplotlib.axes._subplots.AxesSubplot at 0x2616365ae08>"
      ]
     },
     "execution_count": 7,
     "metadata": {},
     "output_type": "execute_result"
    },
    {
     "data": {
      "image/png": "[encoded data removed]",
      "text/plain": [
       "<Figure size 432x288 with 1 Axes>"
      ]
     },
     "metadata": {},
     "output_type": "display_data"
    }
   ],
   "source": [
    "sns.heatmap(df.isnull(), yticklabels = False, cbar = False, cmap = 'viridis')"
   ]
  },
  {
   "cell_type": "code",
   "execution_count": 8,
   "metadata": {},
   "outputs": [],
   "source": [
    "df = df.rename(columns = {'sentiment':'Rating'})"
   ]
  },
  {
   "cell_type": "code",
   "execution_count": 9,
   "metadata": {},
   "outputs": [
    {
     "data": {
      "text/html": [
       "<div>\n",
       "<style scoped>\n",
       "    .dataframe tbody tr th:only-of-type {\n",
       "        vertical-align: middle;\n",
       "    }\n",
       "\n",
       "    .dataframe tbody tr th {\n",
       "        vertical-align: top;\n",
       "    }\n",
       "\n",
       "    .dataframe thead th {\n",
       "        text-align: right;\n",
       "    }\n",
       "</style>\n",
       "<table border=\"1\" class=\"dataframe\">\n",
       "  <thead>\n",
       "    <tr style=\"text-align: right;\">\n",
       "      <th></th>\n",
       "      <th>id</th>\n",
       "      <th>Rating</th>\n",
       "      <th>review</th>\n",
       "    </tr>\n",
       "  </thead>\n",
       "  <tbody>\n",
       "    <tr>\n",
       "      <th>0</th>\n",
       "      <td>5814_8</td>\n",
       "      <td>1</td>\n",
       "      <td>With all this stuff going down at the moment w...</td>\n",
       "    </tr>\n",
       "    <tr>\n",
       "      <th>1</th>\n",
       "      <td>2381_9</td>\n",
       "      <td>1</td>\n",
       "      <td>\\The Classic War of the Worlds\\\" by Timothy Hi...</td>\n",
       "    </tr>\n",
       "    <tr>\n",
       "      <th>2</th>\n",
       "      <td>7759_3</td>\n",
       "      <td>0</td>\n",
       "      <td>The film starts with a manager (Nicholas Bell)...</td>\n",
       "    </tr>\n",
       "    <tr>\n",
       "      <th>3</th>\n",
       "      <td>3630_4</td>\n",
       "      <td>0</td>\n",
       "      <td>It must be assumed that those who praised this...</td>\n",
       "    </tr>\n",
       "    <tr>\n",
       "      <th>4</th>\n",
       "      <td>9495_8</td>\n",
       "      <td>1</td>\n",
       "      <td>Superbly trashy and wondrously unpretentious 8...</td>\n",
       "    </tr>\n",
       "  </tbody>\n",
       "</table>\n",
       "</div>"
      ],
      "text/plain": [
       "       id  Rating                                             review\n",
       "0  5814_8       1  With all this stuff going down at the moment w...\n",
       "1  2381_9       1  \\The Classic War of the Worlds\\\" by Timothy Hi...\n",
       "2  7759_3       0  The film starts with a manager (Nicholas Bell)...\n",
       "3  3630_4       0  It must be assumed that those who praised this...\n",
       "4  9495_8       1  Superbly trashy and wondrously unpretentious 8..."
      ]
     },
     "execution_count": 9,
     "metadata": {},
     "output_type": "execute_result"
    }
   ],
   "source": [
    "df.head()"
   ]
  },
  {
   "cell_type": "code",
   "execution_count": 10,
   "metadata": {},
   "outputs": [
    {
     "data": {
      "text/plain": [
       "<matplotlib.axes._subplots.AxesSubplot at 0x2616453dc48>"
      ]
     },
     "execution_count": 10,
     "metadata": {},
     "output_type": "execute_result"
    },
    {
     "data": {
      "image/png": "[encoded data removed]",
      "text/plain": [
       "<Figure size 432x288 with 1 Axes>"
      ]
     },
     "metadata": {},
     "output_type": "display_data"
    }
   ],
   "source": [
    "sns.countplot(x=\"Rating\", data = df)"
   ]
  },
  {
   "cell_type": "code",
   "execution_count": 11,
   "metadata": {},
   "outputs": [
    {
     "data": {
      "text/plain": [
       "<matplotlib.axes._subplots.AxesSubplot at 0x261649a6f88>"
      ]
     },
     "execution_count": 11,
     "metadata": {},
     "output_type": "execute_result"
    },
    {
     "data": {
      "image/png": "[encoded data removed]",
      "text/plain": [
       "<Figure size 432x288 with 1 Axes>"
      ]
     },
     "metadata": {},
     "output_type": "display_data"
    }
   ],
   "source": [
    "sns.distplot(df['Rating'])"
   ]
  },
  {
   "cell_type": "code",
   "execution_count": 12,
   "metadata": {},
   "outputs": [
    {
     "name": "stdout",
     "output_type": "stream",
     "text": [
      "(25000, 3)\n"
     ]
    }
   ],
   "source": [
    "print(df.shape)"
   ]
  },
  {
   "cell_type": "code",
   "execution_count": 13,
   "metadata": {},
   "outputs": [],
   "source": [
    "def remove_non_ascii(words):\n",
    "    \"\"\"Remove non-ASCII characters from list of tokenized words\"\"\"\n",
    "    new_words = []\n",
    "    for word in words:\n",
    "        new_word = unicodedata.normalize('NFKD', word).encode('ascii', 'ignore').decode('utf-8', 'ignore')\n",
    "        new_words.append(new_word)\n",
    "    return new_words\n",
    "\n",
    "def to_lowercase(words):\n",
    "    \"\"\"Convert all characters to lowercase from list of tokenized words\"\"\"\n",
    "    new_words = []\n",
    "    for word in words:\n",
    "        new_word = word.lower()\n",
    "        new_words.append(new_word)\n",
    "    return new_words\n",
    "\n",
    "def remove_punctuation(words):\n",
    "    \"\"\"Remove punctuation from list of tokenized words\"\"\"\n",
    "    new_words = []\n",
    "    for word in words:\n",
    "        new_word = re.sub(r'[^\\w\\s]', '', word)\n",
    "        if new_word != '':\n",
    "            new_words.append(new_word)\n",
    "    return new_words\n",
    "\n",
    "def remove_numbers(words):\n",
    "    \"\"\"Remove all interger occurrences in list of tokenized words with textual representation\"\"\"\n",
    "    new_words = []\n",
    "    for word in words:\n",
    "        new_word = re.sub(\"\\d+\", \"\", word)\n",
    "        if new_word != '':\n",
    "            new_words.append(new_word)\n",
    "    return new_words\n",
    "\n",
    "def remove_stopwords(words):\n",
    "    \"\"\"Remove stop words from list of tokenized words\"\"\"\n",
    "    new_words = []\n",
    "    for word in words:\n",
    "        if word not in stopwords.words('english'):\n",
    "            new_words.append(word)\n",
    "    return new_words\n",
    "\n",
    "def stem_words(words):\n",
    "    \"\"\"Stem words in list of tokenized words\"\"\"\n",
    "    stemmer = LancasterStemmer()\n",
    "    stems = []\n",
    "    for word in words:\n",
    "        stem = stemmer.stem(word)\n",
    "        stems.append(stem)\n",
    "    return stems\n",
    "\n",
    "def lemmatize_verbs(words):\n",
    "    \"\"\"Lemmatize verbs in list of tokenized words\"\"\"\n",
    "    lemmatizer = WordNetLemmatizer()\n",
    "    lemmas = []\n",
    "    for word in words:\n",
    "        lemma = lemmatizer.lemmatize(word, pos='v')\n",
    "        lemmas.append(lemma)\n",
    "    return lemmas\n",
    "\n",
    "def normalize(words):\n",
    "    words = remove_non_ascii(words)\n",
    "    words = to_lowercase(words)\n",
    "    words = remove_punctuation(words)\n",
    "    words = remove_numbers(words)\n",
    "#    words = remove_stopwords(words)\n",
    "    return words\n"
   ]
  },
  {
   "cell_type": "code",
   "execution_count": 14,
   "metadata": {},
   "outputs": [
    {
     "data": {
      "text/html": [
       "<div>\n",
       "<style scoped>\n",
       "    .dataframe tbody tr th:only-of-type {\n",
       "        vertical-align: middle;\n",
       "    }\n",
       "\n",
       "    .dataframe tbody tr th {\n",
       "        vertical-align: top;\n",
       "    }\n",
       "\n",
       "    .dataframe thead th {\n",
       "        text-align: right;\n",
       "    }\n",
       "</style>\n",
       "<table border=\"1\" class=\"dataframe\">\n",
       "  <thead>\n",
       "    <tr style=\"text-align: right;\">\n",
       "      <th></th>\n",
       "      <th>id</th>\n",
       "      <th>Rating</th>\n",
       "      <th>review</th>\n",
       "    </tr>\n",
       "  </thead>\n",
       "  <tbody>\n",
       "    <tr>\n",
       "      <th>0</th>\n",
       "      <td>5814_8</td>\n",
       "      <td>1</td>\n",
       "      <td>With all this stuff going down at the moment w...</td>\n",
       "    </tr>\n",
       "    <tr>\n",
       "      <th>1</th>\n",
       "      <td>2381_9</td>\n",
       "      <td>1</td>\n",
       "      <td>\\The Classic War of the Worlds\\\" by Timothy Hi...</td>\n",
       "    </tr>\n",
       "    <tr>\n",
       "      <th>2</th>\n",
       "      <td>7759_3</td>\n",
       "      <td>0</td>\n",
       "      <td>The film starts with a manager (Nicholas Bell)...</td>\n",
       "    </tr>\n",
       "    <tr>\n",
       "      <th>3</th>\n",
       "      <td>3630_4</td>\n",
       "      <td>0</td>\n",
       "      <td>It must be assumed that those who praised this...</td>\n",
       "    </tr>\n",
       "    <tr>\n",
       "      <th>4</th>\n",
       "      <td>9495_8</td>\n",
       "      <td>1</td>\n",
       "      <td>Superbly trashy and wondrously unpretentious 8...</td>\n",
       "    </tr>\n",
       "  </tbody>\n",
       "</table>\n",
       "</div>"
      ],
      "text/plain": [
       "       id  Rating                                             review\n",
       "0  5814_8       1  With all this stuff going down at the moment w...\n",
       "1  2381_9       1  \\The Classic War of the Worlds\\\" by Timothy Hi...\n",
       "2  7759_3       0  The film starts with a manager (Nicholas Bell)...\n",
       "3  3630_4       0  It must be assumed that those who praised this...\n",
       "4  9495_8       1  Superbly trashy and wondrously unpretentious 8..."
      ]
     },
     "execution_count": 14,
     "metadata": {},
     "output_type": "execute_result"
    }
   ],
   "source": [
    "df.head()"
   ]
  },
  {
   "cell_type": "code",
   "execution_count": 15,
   "metadata": {},
   "outputs": [
    {
     "data": {
      "text/plain": [
       "0    [with, all, this, stuff, going, down, at, the,...\n",
       "1    [the, classic, war, of, the, worlds, by, timot...\n",
       "2    [the, film, starts, with, a, manager, nicholas...\n",
       "3    [it, must, be, assumed, that, those, who, prai...\n",
       "4    [superbly, trashy, and, wondrously, unpretenti...\n",
       "Name: Words, dtype: object"
      ]
     },
     "execution_count": 15,
     "metadata": {},
     "output_type": "execute_result"
    }
   ],
   "source": [
    "# First step - tokenizing phrases\n",
    "df['Words'] = df['review'].apply(nltk.word_tokenize)\n",
    "\n",
    "# Second step - passing through prep functions\n",
    "df['Words'] = df['Words'].apply(normalize) \n",
    "df['Words'].head()"
   ]
  },
  {
   "cell_type": "code",
   "execution_count": 67,
   "metadata": {},
   "outputs": [
    {
     "name": "stderr",
     "output_type": "stream",
     "text": [
      "[nltk_data] Downloading package punkt to\n",
      "[nltk_data]     C:\\Users\\rusal\\AppData\\Roaming\\nltk_data...\n",
      "[nltk_data]   Package punkt is already up-to-date!\n"
     ]
    },
    {
     "data": {
      "text/plain": [
       "True"
      ]
     },
     "execution_count": 67,
     "metadata": {},
     "output_type": "execute_result"
    }
   ],
   "source": [
    "import nltk\n",
    "nltk.download('punkt')"
   ]
  },
  {
   "cell_type": "code",
   "execution_count": 16,
   "metadata": {},
   "outputs": [
    {
     "data": {
      "text/html": [
       "<div>\n",
       "<style scoped>\n",
       "    .dataframe tbody tr th:only-of-type {\n",
       "        vertical-align: middle;\n",
       "    }\n",
       "\n",
       "    .dataframe tbody tr th {\n",
       "        vertical-align: top;\n",
       "    }\n",
       "\n",
       "    .dataframe thead th {\n",
       "        text-align: right;\n",
       "    }\n",
       "</style>\n",
       "<table border=\"1\" class=\"dataframe\">\n",
       "  <thead>\n",
       "    <tr style=\"text-align: right;\">\n",
       "      <th></th>\n",
       "      <th>id</th>\n",
       "      <th>Rating</th>\n",
       "      <th>review</th>\n",
       "      <th>Words</th>\n",
       "    </tr>\n",
       "  </thead>\n",
       "  <tbody>\n",
       "    <tr>\n",
       "      <th>0</th>\n",
       "      <td>5814_8</td>\n",
       "      <td>1</td>\n",
       "      <td>With all this stuff going down at the moment w...</td>\n",
       "      <td>[with, all, this, stuff, going, down, at, the,...</td>\n",
       "    </tr>\n",
       "    <tr>\n",
       "      <th>1</th>\n",
       "      <td>2381_9</td>\n",
       "      <td>1</td>\n",
       "      <td>\\The Classic War of the Worlds\\\" by Timothy Hi...</td>\n",
       "      <td>[the, classic, war, of, the, worlds, by, timot...</td>\n",
       "    </tr>\n",
       "    <tr>\n",
       "      <th>2</th>\n",
       "      <td>7759_3</td>\n",
       "      <td>0</td>\n",
       "      <td>The film starts with a manager (Nicholas Bell)...</td>\n",
       "      <td>[the, film, starts, with, a, manager, nicholas...</td>\n",
       "    </tr>\n",
       "    <tr>\n",
       "      <th>3</th>\n",
       "      <td>3630_4</td>\n",
       "      <td>0</td>\n",
       "      <td>It must be assumed that those who praised this...</td>\n",
       "      <td>[it, must, be, assumed, that, those, who, prai...</td>\n",
       "    </tr>\n",
       "    <tr>\n",
       "      <th>4</th>\n",
       "      <td>9495_8</td>\n",
       "      <td>1</td>\n",
       "      <td>Superbly trashy and wondrously unpretentious 8...</td>\n",
       "      <td>[superbly, trashy, and, wondrously, unpretenti...</td>\n",
       "    </tr>\n",
       "    <tr>\n",
       "      <th>...</th>\n",
       "      <td>...</td>\n",
       "      <td>...</td>\n",
       "      <td>...</td>\n",
       "      <td>...</td>\n",
       "    </tr>\n",
       "    <tr>\n",
       "      <th>24995</th>\n",
       "      <td>3453_3</td>\n",
       "      <td>0</td>\n",
       "      <td>It seems like more consideration has gone into...</td>\n",
       "      <td>[it, seems, like, more, consideration, has, go...</td>\n",
       "    </tr>\n",
       "    <tr>\n",
       "      <th>24996</th>\n",
       "      <td>5064_1</td>\n",
       "      <td>0</td>\n",
       "      <td>I don't believe they made this film. Completel...</td>\n",
       "      <td>[i, do, nt, believe, they, made, this, film, c...</td>\n",
       "    </tr>\n",
       "    <tr>\n",
       "      <th>24997</th>\n",
       "      <td>10905_3</td>\n",
       "      <td>0</td>\n",
       "      <td>Guy is a loser. Can't get girls, needs to buil...</td>\n",
       "      <td>[guy, is, a, loser, ca, nt, get, girls, needs,...</td>\n",
       "    </tr>\n",
       "    <tr>\n",
       "      <th>24998</th>\n",
       "      <td>10194_3</td>\n",
       "      <td>0</td>\n",
       "      <td>This 30 minute documentary Buñuel made in the ...</td>\n",
       "      <td>[this, minute, documentary, bunuel, made, in, ...</td>\n",
       "    </tr>\n",
       "    <tr>\n",
       "      <th>24999</th>\n",
       "      <td>8478_8</td>\n",
       "      <td>1</td>\n",
       "      <td>I saw this movie as a child and it broke my he...</td>\n",
       "      <td>[i, saw, this, movie, as, a, child, and, it, b...</td>\n",
       "    </tr>\n",
       "  </tbody>\n",
       "</table>\n",
       "<p>25000 rows × 4 columns</p>\n",
       "</div>"
      ],
      "text/plain": [
       "            id  Rating                                             review  \\\n",
       "0       5814_8       1  With all this stuff going down at the moment w...   \n",
       "1       2381_9       1  \\The Classic War of the Worlds\\\" by Timothy Hi...   \n",
       "2       7759_3       0  The film starts with a manager (Nicholas Bell)...   \n",
       "3       3630_4       0  It must be assumed that those who praised this...   \n",
       "4       9495_8       1  Superbly trashy and wondrously unpretentious 8...   \n",
       "...        ...     ...                                                ...   \n",
       "24995   3453_3       0  It seems like more consideration has gone into...   \n",
       "24996   5064_1       0  I don't believe they made this film. Completel...   \n",
       "24997  10905_3       0  Guy is a loser. Can't get girls, needs to buil...   \n",
       "24998  10194_3       0  This 30 minute documentary Buñuel made in the ...   \n",
       "24999   8478_8       1  I saw this movie as a child and it broke my he...   \n",
       "\n",
       "                                                   Words  \n",
       "0      [with, all, this, stuff, going, down, at, the,...  \n",
       "1      [the, classic, war, of, the, worlds, by, timot...  \n",
       "2      [the, film, starts, with, a, manager, nicholas...  \n",
       "3      [it, must, be, assumed, that, those, who, prai...  \n",
       "4      [superbly, trashy, and, wondrously, unpretenti...  \n",
       "...                                                  ...  \n",
       "24995  [it, seems, like, more, consideration, has, go...  \n",
       "24996  [i, do, nt, believe, they, made, this, film, c...  \n",
       "24997  [guy, is, a, loser, ca, nt, get, girls, needs,...  \n",
       "24998  [this, minute, documentary, bunuel, made, in, ...  \n",
       "24999  [i, saw, this, movie, as, a, child, and, it, b...  \n",
       "\n",
       "[25000 rows x 4 columns]"
      ]
     },
     "execution_count": 16,
     "metadata": {},
     "output_type": "execute_result"
    }
   ],
   "source": [
    "df"
   ]
  },
  {
   "cell_type": "code",
   "execution_count": 17,
   "metadata": {},
   "outputs": [
    {
     "name": "stdout",
     "output_type": "stream",
     "text": [
      "93403\n",
      "93403\n"
     ]
    }
   ],
   "source": [
    "# Third step - creating a list of unique words to be used as dictionary for encoding\n",
    "word_set = set()\n",
    "for l in df['Words']:\n",
    "    for e in l:\n",
    "        word_set.add(e)\n",
    "        \n",
    "word_to_int = {word: ii for ii, word in enumerate(word_set, 1)}\n",
    "\n",
    "# Check if they are still the same lenght\n",
    "print(len(word_set))\n",
    "print(len(word_to_int))"
   ]
  },
  {
   "cell_type": "code",
   "execution_count": 18,
   "metadata": {},
   "outputs": [
    {
     "data": {
      "text/plain": [
       "0    [85193, 22874, 34341, 66889, 36811, 64016, 421...\n",
       "1    [37661, 82401, 66520, 1507, 37661, 44441, 7753...\n",
       "2    [37661, 71474, 51118, 85193, 81682, 35430, 843...\n",
       "3    [17404, 11829, 69646, 83297, 85534, 36937, 226...\n",
       "4    [20540, 21349, 83828, 9330, 9168, 32330, 38356...\n",
       "Name: Tokens, dtype: object"
      ]
     },
     "execution_count": 18,
     "metadata": {},
     "output_type": "execute_result"
    }
   ],
   "source": [
    "# Now the dict to tokenize each phrase\n",
    "df['Tokens'] = df['Words'].apply(lambda l: [word_to_int[word] for word in l])\n",
    "df['Tokens'].head()"
   ]
  },
  {
   "cell_type": "code",
   "execution_count": 19,
   "metadata": {},
   "outputs": [
    {
     "data": {
      "text/html": [
       "<div>\n",
       "<style scoped>\n",
       "    .dataframe tbody tr th:only-of-type {\n",
       "        vertical-align: middle;\n",
       "    }\n",
       "\n",
       "    .dataframe tbody tr th {\n",
       "        vertical-align: top;\n",
       "    }\n",
       "\n",
       "    .dataframe thead th {\n",
       "        text-align: right;\n",
       "    }\n",
       "</style>\n",
       "<table border=\"1\" class=\"dataframe\">\n",
       "  <thead>\n",
       "    <tr style=\"text-align: right;\">\n",
       "      <th></th>\n",
       "      <th>id</th>\n",
       "      <th>Rating</th>\n",
       "      <th>review</th>\n",
       "      <th>Words</th>\n",
       "      <th>Tokens</th>\n",
       "    </tr>\n",
       "  </thead>\n",
       "  <tbody>\n",
       "    <tr>\n",
       "      <th>0</th>\n",
       "      <td>5814_8</td>\n",
       "      <td>1</td>\n",
       "      <td>With all this stuff going down at the moment w...</td>\n",
       "      <td>[with, all, this, stuff, going, down, at, the,...</td>\n",
       "      <td>[85193, 22874, 34341, 66889, 36811, 64016, 421...</td>\n",
       "    </tr>\n",
       "    <tr>\n",
       "      <th>1</th>\n",
       "      <td>2381_9</td>\n",
       "      <td>1</td>\n",
       "      <td>\\The Classic War of the Worlds\\\" by Timothy Hi...</td>\n",
       "      <td>[the, classic, war, of, the, worlds, by, timot...</td>\n",
       "      <td>[37661, 82401, 66520, 1507, 37661, 44441, 7753...</td>\n",
       "    </tr>\n",
       "    <tr>\n",
       "      <th>2</th>\n",
       "      <td>7759_3</td>\n",
       "      <td>0</td>\n",
       "      <td>The film starts with a manager (Nicholas Bell)...</td>\n",
       "      <td>[the, film, starts, with, a, manager, nicholas...</td>\n",
       "      <td>[37661, 71474, 51118, 85193, 81682, 35430, 843...</td>\n",
       "    </tr>\n",
       "    <tr>\n",
       "      <th>3</th>\n",
       "      <td>3630_4</td>\n",
       "      <td>0</td>\n",
       "      <td>It must be assumed that those who praised this...</td>\n",
       "      <td>[it, must, be, assumed, that, those, who, prai...</td>\n",
       "      <td>[17404, 11829, 69646, 83297, 85534, 36937, 226...</td>\n",
       "    </tr>\n",
       "    <tr>\n",
       "      <th>4</th>\n",
       "      <td>9495_8</td>\n",
       "      <td>1</td>\n",
       "      <td>Superbly trashy and wondrously unpretentious 8...</td>\n",
       "      <td>[superbly, trashy, and, wondrously, unpretenti...</td>\n",
       "      <td>[20540, 21349, 83828, 9330, 9168, 32330, 38356...</td>\n",
       "    </tr>\n",
       "    <tr>\n",
       "      <th>...</th>\n",
       "      <td>...</td>\n",
       "      <td>...</td>\n",
       "      <td>...</td>\n",
       "      <td>...</td>\n",
       "      <td>...</td>\n",
       "    </tr>\n",
       "    <tr>\n",
       "      <th>24995</th>\n",
       "      <td>3453_3</td>\n",
       "      <td>0</td>\n",
       "      <td>It seems like more consideration has gone into...</td>\n",
       "      <td>[it, seems, like, more, consideration, has, go...</td>\n",
       "      <td>[17404, 14840, 79399, 32799, 28390, 35252, 907...</td>\n",
       "    </tr>\n",
       "    <tr>\n",
       "      <th>24996</th>\n",
       "      <td>5064_1</td>\n",
       "      <td>0</td>\n",
       "      <td>I don't believe they made this film. Completel...</td>\n",
       "      <td>[i, do, nt, believe, they, made, this, film, c...</td>\n",
       "      <td>[37234, 14532, 11727, 26784, 90830, 55088, 343...</td>\n",
       "    </tr>\n",
       "    <tr>\n",
       "      <th>24997</th>\n",
       "      <td>10905_3</td>\n",
       "      <td>0</td>\n",
       "      <td>Guy is a loser. Can't get girls, needs to buil...</td>\n",
       "      <td>[guy, is, a, loser, ca, nt, get, girls, needs,...</td>\n",
       "      <td>[65736, 16723, 81682, 53527, 82770, 11727, 100...</td>\n",
       "    </tr>\n",
       "    <tr>\n",
       "      <th>24998</th>\n",
       "      <td>10194_3</td>\n",
       "      <td>0</td>\n",
       "      <td>This 30 minute documentary Buñuel made in the ...</td>\n",
       "      <td>[this, minute, documentary, bunuel, made, in, ...</td>\n",
       "      <td>[34341, 48767, 24070, 26319, 55088, 81667, 376...</td>\n",
       "    </tr>\n",
       "    <tr>\n",
       "      <th>24999</th>\n",
       "      <td>8478_8</td>\n",
       "      <td>1</td>\n",
       "      <td>I saw this movie as a child and it broke my he...</td>\n",
       "      <td>[i, saw, this, movie, as, a, child, and, it, b...</td>\n",
       "      <td>[37234, 70200, 34341, 43545, 33412, 81682, 115...</td>\n",
       "    </tr>\n",
       "  </tbody>\n",
       "</table>\n",
       "<p>25000 rows × 5 columns</p>\n",
       "</div>"
      ],
      "text/plain": [
       "            id  Rating                                             review  \\\n",
       "0       5814_8       1  With all this stuff going down at the moment w...   \n",
       "1       2381_9       1  \\The Classic War of the Worlds\\\" by Timothy Hi...   \n",
       "2       7759_3       0  The film starts with a manager (Nicholas Bell)...   \n",
       "3       3630_4       0  It must be assumed that those who praised this...   \n",
       "4       9495_8       1  Superbly trashy and wondrously unpretentious 8...   \n",
       "...        ...     ...                                                ...   \n",
       "24995   3453_3       0  It seems like more consideration has gone into...   \n",
       "24996   5064_1       0  I don't believe they made this film. Completel...   \n",
       "24997  10905_3       0  Guy is a loser. Can't get girls, needs to buil...   \n",
       "24998  10194_3       0  This 30 minute documentary Buñuel made in the ...   \n",
       "24999   8478_8       1  I saw this movie as a child and it broke my he...   \n",
       "\n",
       "                                                   Words  \\\n",
       "0      [with, all, this, stuff, going, down, at, the,...   \n",
       "1      [the, classic, war, of, the, worlds, by, timot...   \n",
       "2      [the, film, starts, with, a, manager, nicholas...   \n",
       "3      [it, must, be, assumed, that, those, who, prai...   \n",
       "4      [superbly, trashy, and, wondrously, unpretenti...   \n",
       "...                                                  ...   \n",
       "24995  [it, seems, like, more, consideration, has, go...   \n",
       "24996  [i, do, nt, believe, they, made, this, film, c...   \n",
       "24997  [guy, is, a, loser, ca, nt, get, girls, needs,...   \n",
       "24998  [this, minute, documentary, bunuel, made, in, ...   \n",
       "24999  [i, saw, this, movie, as, a, child, and, it, b...   \n",
       "\n",
       "                                                  Tokens  \n",
       "0      [85193, 22874, 34341, 66889, 36811, 64016, 421...  \n",
       "1      [37661, 82401, 66520, 1507, 37661, 44441, 7753...  \n",
       "2      [37661, 71474, 51118, 85193, 81682, 35430, 843...  \n",
       "3      [17404, 11829, 69646, 83297, 85534, 36937, 226...  \n",
       "4      [20540, 21349, 83828, 9330, 9168, 32330, 38356...  \n",
       "...                                                  ...  \n",
       "24995  [17404, 14840, 79399, 32799, 28390, 35252, 907...  \n",
       "24996  [37234, 14532, 11727, 26784, 90830, 55088, 343...  \n",
       "24997  [65736, 16723, 81682, 53527, 82770, 11727, 100...  \n",
       "24998  [34341, 48767, 24070, 26319, 55088, 81667, 376...  \n",
       "24999  [37234, 70200, 34341, 43545, 33412, 81682, 115...  \n",
       "\n",
       "[25000 rows x 5 columns]"
      ]
     },
     "execution_count": 19,
     "metadata": {},
     "output_type": "execute_result"
    }
   ],
   "source": [
    "df"
   ]
  },
  {
   "cell_type": "code",
   "execution_count": 20,
   "metadata": {},
   "outputs": [
    {
     "name": "stdout",
     "output_type": "stream",
     "text": [
      "2502\n"
     ]
    }
   ],
   "source": [
    "# Step four - get the len of longest phrase\n",
    "max_len = df['Tokens'].str.len().max()\n",
    "print(max_len)"
   ]
  },
  {
   "cell_type": "code",
   "execution_count": 21,
   "metadata": {},
   "outputs": [
    {
     "data": {
      "text/html": [
       "<div>\n",
       "<style scoped>\n",
       "    .dataframe tbody tr th:only-of-type {\n",
       "        vertical-align: middle;\n",
       "    }\n",
       "\n",
       "    .dataframe tbody tr th {\n",
       "        vertical-align: top;\n",
       "    }\n",
       "\n",
       "    .dataframe thead th {\n",
       "        text-align: right;\n",
       "    }\n",
       "</style>\n",
       "<table border=\"1\" class=\"dataframe\">\n",
       "  <thead>\n",
       "    <tr style=\"text-align: right;\">\n",
       "      <th></th>\n",
       "      <th>id</th>\n",
       "      <th>Rating</th>\n",
       "      <th>review</th>\n",
       "      <th>Words</th>\n",
       "      <th>Tokens</th>\n",
       "    </tr>\n",
       "  </thead>\n",
       "  <tbody>\n",
       "    <tr>\n",
       "      <th>0</th>\n",
       "      <td>5814_8</td>\n",
       "      <td>1</td>\n",
       "      <td>With all this stuff going down at the moment w...</td>\n",
       "      <td>[with, all, this, stuff, going, down, at, the,...</td>\n",
       "      <td>[85193, 22874, 34341, 66889, 36811, 64016, 421...</td>\n",
       "    </tr>\n",
       "    <tr>\n",
       "      <th>1</th>\n",
       "      <td>2381_9</td>\n",
       "      <td>1</td>\n",
       "      <td>\\The Classic War of the Worlds\\\" by Timothy Hi...</td>\n",
       "      <td>[the, classic, war, of, the, worlds, by, timot...</td>\n",
       "      <td>[37661, 82401, 66520, 1507, 37661, 44441, 7753...</td>\n",
       "    </tr>\n",
       "    <tr>\n",
       "      <th>2</th>\n",
       "      <td>7759_3</td>\n",
       "      <td>0</td>\n",
       "      <td>The film starts with a manager (Nicholas Bell)...</td>\n",
       "      <td>[the, film, starts, with, a, manager, nicholas...</td>\n",
       "      <td>[37661, 71474, 51118, 85193, 81682, 35430, 843...</td>\n",
       "    </tr>\n",
       "    <tr>\n",
       "      <th>3</th>\n",
       "      <td>3630_4</td>\n",
       "      <td>0</td>\n",
       "      <td>It must be assumed that those who praised this...</td>\n",
       "      <td>[it, must, be, assumed, that, those, who, prai...</td>\n",
       "      <td>[17404, 11829, 69646, 83297, 85534, 36937, 226...</td>\n",
       "    </tr>\n",
       "    <tr>\n",
       "      <th>4</th>\n",
       "      <td>9495_8</td>\n",
       "      <td>1</td>\n",
       "      <td>Superbly trashy and wondrously unpretentious 8...</td>\n",
       "      <td>[superbly, trashy, and, wondrously, unpretenti...</td>\n",
       "      <td>[20540, 21349, 83828, 9330, 9168, 32330, 38356...</td>\n",
       "    </tr>\n",
       "    <tr>\n",
       "      <th>...</th>\n",
       "      <td>...</td>\n",
       "      <td>...</td>\n",
       "      <td>...</td>\n",
       "      <td>...</td>\n",
       "      <td>...</td>\n",
       "    </tr>\n",
       "    <tr>\n",
       "      <th>24995</th>\n",
       "      <td>3453_3</td>\n",
       "      <td>0</td>\n",
       "      <td>It seems like more consideration has gone into...</td>\n",
       "      <td>[it, seems, like, more, consideration, has, go...</td>\n",
       "      <td>[17404, 14840, 79399, 32799, 28390, 35252, 907...</td>\n",
       "    </tr>\n",
       "    <tr>\n",
       "      <th>24996</th>\n",
       "      <td>5064_1</td>\n",
       "      <td>0</td>\n",
       "      <td>I don't believe they made this film. Completel...</td>\n",
       "      <td>[i, do, nt, believe, they, made, this, film, c...</td>\n",
       "      <td>[37234, 14532, 11727, 26784, 90830, 55088, 343...</td>\n",
       "    </tr>\n",
       "    <tr>\n",
       "      <th>24997</th>\n",
       "      <td>10905_3</td>\n",
       "      <td>0</td>\n",
       "      <td>Guy is a loser. Can't get girls, needs to buil...</td>\n",
       "      <td>[guy, is, a, loser, ca, nt, get, girls, needs,...</td>\n",
       "      <td>[65736, 16723, 81682, 53527, 82770, 11727, 100...</td>\n",
       "    </tr>\n",
       "    <tr>\n",
       "      <th>24998</th>\n",
       "      <td>10194_3</td>\n",
       "      <td>0</td>\n",
       "      <td>This 30 minute documentary Buñuel made in the ...</td>\n",
       "      <td>[this, minute, documentary, bunuel, made, in, ...</td>\n",
       "      <td>[34341, 48767, 24070, 26319, 55088, 81667, 376...</td>\n",
       "    </tr>\n",
       "    <tr>\n",
       "      <th>24999</th>\n",
       "      <td>8478_8</td>\n",
       "      <td>1</td>\n",
       "      <td>I saw this movie as a child and it broke my he...</td>\n",
       "      <td>[i, saw, this, movie, as, a, child, and, it, b...</td>\n",
       "      <td>[37234, 70200, 34341, 43545, 33412, 81682, 115...</td>\n",
       "    </tr>\n",
       "  </tbody>\n",
       "</table>\n",
       "<p>25000 rows × 5 columns</p>\n",
       "</div>"
      ],
      "text/plain": [
       "            id  Rating                                             review  \\\n",
       "0       5814_8       1  With all this stuff going down at the moment w...   \n",
       "1       2381_9       1  \\The Classic War of the Worlds\\\" by Timothy Hi...   \n",
       "2       7759_3       0  The film starts with a manager (Nicholas Bell)...   \n",
       "3       3630_4       0  It must be assumed that those who praised this...   \n",
       "4       9495_8       1  Superbly trashy and wondrously unpretentious 8...   \n",
       "...        ...     ...                                                ...   \n",
       "24995   3453_3       0  It seems like more consideration has gone into...   \n",
       "24996   5064_1       0  I don't believe they made this film. Completel...   \n",
       "24997  10905_3       0  Guy is a loser. Can't get girls, needs to buil...   \n",
       "24998  10194_3       0  This 30 minute documentary Buñuel made in the ...   \n",
       "24999   8478_8       1  I saw this movie as a child and it broke my he...   \n",
       "\n",
       "                                                   Words  \\\n",
       "0      [with, all, this, stuff, going, down, at, the,...   \n",
       "1      [the, classic, war, of, the, worlds, by, timot...   \n",
       "2      [the, film, starts, with, a, manager, nicholas...   \n",
       "3      [it, must, be, assumed, that, those, who, prai...   \n",
       "4      [superbly, trashy, and, wondrously, unpretenti...   \n",
       "...                                                  ...   \n",
       "24995  [it, seems, like, more, consideration, has, go...   \n",
       "24996  [i, do, nt, believe, they, made, this, film, c...   \n",
       "24997  [guy, is, a, loser, ca, nt, get, girls, needs,...   \n",
       "24998  [this, minute, documentary, bunuel, made, in, ...   \n",
       "24999  [i, saw, this, movie, as, a, child, and, it, b...   \n",
       "\n",
       "                                                  Tokens  \n",
       "0      [85193, 22874, 34341, 66889, 36811, 64016, 421...  \n",
       "1      [37661, 82401, 66520, 1507, 37661, 44441, 7753...  \n",
       "2      [37661, 71474, 51118, 85193, 81682, 35430, 843...  \n",
       "3      [17404, 11829, 69646, 83297, 85534, 36937, 226...  \n",
       "4      [20540, 21349, 83828, 9330, 9168, 32330, 38356...  \n",
       "...                                                  ...  \n",
       "24995  [17404, 14840, 79399, 32799, 28390, 35252, 907...  \n",
       "24996  [37234, 14532, 11727, 26784, 90830, 55088, 343...  \n",
       "24997  [65736, 16723, 81682, 53527, 82770, 11727, 100...  \n",
       "24998  [34341, 48767, 24070, 26319, 55088, 81667, 376...  \n",
       "24999  [37234, 70200, 34341, 43545, 33412, 81682, 115...  \n",
       "\n",
       "[25000 rows x 5 columns]"
      ]
     },
     "execution_count": 21,
     "metadata": {},
     "output_type": "execute_result"
    }
   ],
   "source": [
    "df"
   ]
  },
  {
   "cell_type": "code",
   "execution_count": 22,
   "metadata": {},
   "outputs": [
    {
     "name": "stdout",
     "output_type": "stream",
     "text": [
      "[[85193 22874 34341 ...     0     0     0]\n",
      " [37661 82401 66520 ...     0     0     0]\n",
      " [37661 71474 51118 ...     0     0     0]]\n"
     ]
    }
   ],
   "source": [
    "# Pad each phrase representation with zeroes, starting from the beginning of sequence\n",
    "# Will use a combined list of phrases as np array for further work. \n",
    "\n",
    "all_tokens = np.array([t for t in df['Tokens']])\n",
    "encoded_labels = np.array([l for l in df['Rating']])\n",
    "\n",
    "# Create blank rows\n",
    "features = np.zeros((len(all_tokens), max_len), dtype=int)\n",
    "# for each phrase, add zeros at the end \n",
    "for i, row in enumerate(all_tokens):\n",
    "    features[i, :len(row)] = row\n",
    "\n",
    "#print first 3 values of the feature matrix \n",
    "print(features[:3])"
   ]
  },
  {
   "cell_type": "code",
   "execution_count": 23,
   "metadata": {},
   "outputs": [
    {
     "data": {
      "text/html": [
       "<div>\n",
       "<style scoped>\n",
       "    .dataframe tbody tr th:only-of-type {\n",
       "        vertical-align: middle;\n",
       "    }\n",
       "\n",
       "    .dataframe tbody tr th {\n",
       "        vertical-align: top;\n",
       "    }\n",
       "\n",
       "    .dataframe thead th {\n",
       "        text-align: right;\n",
       "    }\n",
       "</style>\n",
       "<table border=\"1\" class=\"dataframe\">\n",
       "  <thead>\n",
       "    <tr style=\"text-align: right;\">\n",
       "      <th></th>\n",
       "      <th>id</th>\n",
       "      <th>Rating</th>\n",
       "      <th>review</th>\n",
       "      <th>Words</th>\n",
       "      <th>Tokens</th>\n",
       "    </tr>\n",
       "  </thead>\n",
       "  <tbody>\n",
       "    <tr>\n",
       "      <th>0</th>\n",
       "      <td>5814_8</td>\n",
       "      <td>1</td>\n",
       "      <td>With all this stuff going down at the moment w...</td>\n",
       "      <td>[with, all, this, stuff, going, down, at, the,...</td>\n",
       "      <td>[85193, 22874, 34341, 66889, 36811, 64016, 421...</td>\n",
       "    </tr>\n",
       "    <tr>\n",
       "      <th>1</th>\n",
       "      <td>2381_9</td>\n",
       "      <td>1</td>\n",
       "      <td>\\The Classic War of the Worlds\\\" by Timothy Hi...</td>\n",
       "      <td>[the, classic, war, of, the, worlds, by, timot...</td>\n",
       "      <td>[37661, 82401, 66520, 1507, 37661, 44441, 7753...</td>\n",
       "    </tr>\n",
       "    <tr>\n",
       "      <th>2</th>\n",
       "      <td>7759_3</td>\n",
       "      <td>0</td>\n",
       "      <td>The film starts with a manager (Nicholas Bell)...</td>\n",
       "      <td>[the, film, starts, with, a, manager, nicholas...</td>\n",
       "      <td>[37661, 71474, 51118, 85193, 81682, 35430, 843...</td>\n",
       "    </tr>\n",
       "    <tr>\n",
       "      <th>3</th>\n",
       "      <td>3630_4</td>\n",
       "      <td>0</td>\n",
       "      <td>It must be assumed that those who praised this...</td>\n",
       "      <td>[it, must, be, assumed, that, those, who, prai...</td>\n",
       "      <td>[17404, 11829, 69646, 83297, 85534, 36937, 226...</td>\n",
       "    </tr>\n",
       "    <tr>\n",
       "      <th>4</th>\n",
       "      <td>9495_8</td>\n",
       "      <td>1</td>\n",
       "      <td>Superbly trashy and wondrously unpretentious 8...</td>\n",
       "      <td>[superbly, trashy, and, wondrously, unpretenti...</td>\n",
       "      <td>[20540, 21349, 83828, 9330, 9168, 32330, 38356...</td>\n",
       "    </tr>\n",
       "    <tr>\n",
       "      <th>...</th>\n",
       "      <td>...</td>\n",
       "      <td>...</td>\n",
       "      <td>...</td>\n",
       "      <td>...</td>\n",
       "      <td>...</td>\n",
       "    </tr>\n",
       "    <tr>\n",
       "      <th>24995</th>\n",
       "      <td>3453_3</td>\n",
       "      <td>0</td>\n",
       "      <td>It seems like more consideration has gone into...</td>\n",
       "      <td>[it, seems, like, more, consideration, has, go...</td>\n",
       "      <td>[17404, 14840, 79399, 32799, 28390, 35252, 907...</td>\n",
       "    </tr>\n",
       "    <tr>\n",
       "      <th>24996</th>\n",
       "      <td>5064_1</td>\n",
       "      <td>0</td>\n",
       "      <td>I don't believe they made this film. Completel...</td>\n",
       "      <td>[i, do, nt, believe, they, made, this, film, c...</td>\n",
       "      <td>[37234, 14532, 11727, 26784, 90830, 55088, 343...</td>\n",
       "    </tr>\n",
       "    <tr>\n",
       "      <th>24997</th>\n",
       "      <td>10905_3</td>\n",
       "      <td>0</td>\n",
       "      <td>Guy is a loser. Can't get girls, needs to buil...</td>\n",
       "      <td>[guy, is, a, loser, ca, nt, get, girls, needs,...</td>\n",
       "      <td>[65736, 16723, 81682, 53527, 82770, 11727, 100...</td>\n",
       "    </tr>\n",
       "    <tr>\n",
       "      <th>24998</th>\n",
       "      <td>10194_3</td>\n",
       "      <td>0</td>\n",
       "      <td>This 30 minute documentary Buñuel made in the ...</td>\n",
       "      <td>[this, minute, documentary, bunuel, made, in, ...</td>\n",
       "      <td>[34341, 48767, 24070, 26319, 55088, 81667, 376...</td>\n",
       "    </tr>\n",
       "    <tr>\n",
       "      <th>24999</th>\n",
       "      <td>8478_8</td>\n",
       "      <td>1</td>\n",
       "      <td>I saw this movie as a child and it broke my he...</td>\n",
       "      <td>[i, saw, this, movie, as, a, child, and, it, b...</td>\n",
       "      <td>[37234, 70200, 34341, 43545, 33412, 81682, 115...</td>\n",
       "    </tr>\n",
       "  </tbody>\n",
       "</table>\n",
       "<p>25000 rows × 5 columns</p>\n",
       "</div>"
      ],
      "text/plain": [
       "            id  Rating                                             review  \\\n",
       "0       5814_8       1  With all this stuff going down at the moment w...   \n",
       "1       2381_9       1  \\The Classic War of the Worlds\\\" by Timothy Hi...   \n",
       "2       7759_3       0  The film starts with a manager (Nicholas Bell)...   \n",
       "3       3630_4       0  It must be assumed that those who praised this...   \n",
       "4       9495_8       1  Superbly trashy and wondrously unpretentious 8...   \n",
       "...        ...     ...                                                ...   \n",
       "24995   3453_3       0  It seems like more consideration has gone into...   \n",
       "24996   5064_1       0  I don't believe they made this film. Completel...   \n",
       "24997  10905_3       0  Guy is a loser. Can't get girls, needs to buil...   \n",
       "24998  10194_3       0  This 30 minute documentary Buñuel made in the ...   \n",
       "24999   8478_8       1  I saw this movie as a child and it broke my he...   \n",
       "\n",
       "                                                   Words  \\\n",
       "0      [with, all, this, stuff, going, down, at, the,...   \n",
       "1      [the, classic, war, of, the, worlds, by, timot...   \n",
       "2      [the, film, starts, with, a, manager, nicholas...   \n",
       "3      [it, must, be, assumed, that, those, who, prai...   \n",
       "4      [superbly, trashy, and, wondrously, unpretenti...   \n",
       "...                                                  ...   \n",
       "24995  [it, seems, like, more, consideration, has, go...   \n",
       "24996  [i, do, nt, believe, they, made, this, film, c...   \n",
       "24997  [guy, is, a, loser, ca, nt, get, girls, needs,...   \n",
       "24998  [this, minute, documentary, bunuel, made, in, ...   \n",
       "24999  [i, saw, this, movie, as, a, child, and, it, b...   \n",
       "\n",
       "                                                  Tokens  \n",
       "0      [85193, 22874, 34341, 66889, 36811, 64016, 421...  \n",
       "1      [37661, 82401, 66520, 1507, 37661, 44441, 7753...  \n",
       "2      [37661, 71474, 51118, 85193, 81682, 35430, 843...  \n",
       "3      [17404, 11829, 69646, 83297, 85534, 36937, 226...  \n",
       "4      [20540, 21349, 83828, 9330, 9168, 32330, 38356...  \n",
       "...                                                  ...  \n",
       "24995  [17404, 14840, 79399, 32799, 28390, 35252, 907...  \n",
       "24996  [37234, 14532, 11727, 26784, 90830, 55088, 343...  \n",
       "24997  [65736, 16723, 81682, 53527, 82770, 11727, 100...  \n",
       "24998  [34341, 48767, 24070, 26319, 55088, 81667, 376...  \n",
       "24999  [37234, 70200, 34341, 43545, 33412, 81682, 115...  \n",
       "\n",
       "[25000 rows x 5 columns]"
      ]
     },
     "execution_count": 23,
     "metadata": {},
     "output_type": "execute_result"
    }
   ],
   "source": [
    "df"
   ]
  },
  {
   "cell_type": "code",
   "execution_count": 24,
   "metadata": {},
   "outputs": [],
   "source": [
    "df = df.sample(frac=1)"
   ]
  },
  {
   "cell_type": "code",
   "execution_count": 25,
   "metadata": {},
   "outputs": [
    {
     "data": {
      "text/html": [
       "<div>\n",
       "<style scoped>\n",
       "    .dataframe tbody tr th:only-of-type {\n",
       "        vertical-align: middle;\n",
       "    }\n",
       "\n",
       "    .dataframe tbody tr th {\n",
       "        vertical-align: top;\n",
       "    }\n",
       "\n",
       "    .dataframe thead th {\n",
       "        text-align: right;\n",
       "    }\n",
       "</style>\n",
       "<table border=\"1\" class=\"dataframe\">\n",
       "  <thead>\n",
       "    <tr style=\"text-align: right;\">\n",
       "      <th></th>\n",
       "      <th>id</th>\n",
       "      <th>Rating</th>\n",
       "      <th>review</th>\n",
       "      <th>Words</th>\n",
       "      <th>Tokens</th>\n",
       "    </tr>\n",
       "  </thead>\n",
       "  <tbody>\n",
       "    <tr>\n",
       "      <th>11386</th>\n",
       "      <td>11797_8</td>\n",
       "      <td>1</td>\n",
       "      <td>Powers Booth is hypnotic as cult leader jim jo...</td>\n",
       "      <td>[powers, booth, is, hypnotic, as, cult, leader...</td>\n",
       "      <td>[73286, 1158, 16723, 87114, 33412, 20009, 3854...</td>\n",
       "    </tr>\n",
       "    <tr>\n",
       "      <th>16995</th>\n",
       "      <td>3150_10</td>\n",
       "      <td>1</td>\n",
       "      <td>I haven't liked many TV shows post 1990, but T...</td>\n",
       "      <td>[i, have, nt, liked, many, tv, shows, post, bu...</td>\n",
       "      <td>[37234, 67596, 11727, 21914, 62788, 65025, 907...</td>\n",
       "    </tr>\n",
       "    <tr>\n",
       "      <th>7834</th>\n",
       "      <td>2510_10</td>\n",
       "      <td>1</td>\n",
       "      <td>Moon Child is the story of two brothers and a ...</td>\n",
       "      <td>[moon, child, is, the, story, of, two, brother...</td>\n",
       "      <td>[11834, 11522, 16723, 37661, 37888, 1507, 6723...</td>\n",
       "    </tr>\n",
       "    <tr>\n",
       "      <th>10933</th>\n",
       "      <td>11776_9</td>\n",
       "      <td>1</td>\n",
       "      <td>Chuck Jones's 'Hare Conditioned' is a fast pac...</td>\n",
       "      <td>[chuck, jones, s, hare, conditioned, is, a, fa...</td>\n",
       "      <td>[17293, 37179, 32330, 55890, 69976, 16723, 816...</td>\n",
       "    </tr>\n",
       "    <tr>\n",
       "      <th>21401</th>\n",
       "      <td>10797_8</td>\n",
       "      <td>1</td>\n",
       "      <td>Composed, elegant Carol (marvelously played by...</td>\n",
       "      <td>[composed, elegant, carol, marvelously, played...</td>\n",
       "      <td>[18608, 84742, 1142, 25581, 75998, 77531, 3766...</td>\n",
       "    </tr>\n",
       "    <tr>\n",
       "      <th>...</th>\n",
       "      <td>...</td>\n",
       "      <td>...</td>\n",
       "      <td>...</td>\n",
       "      <td>...</td>\n",
       "      <td>...</td>\n",
       "    </tr>\n",
       "    <tr>\n",
       "      <th>19462</th>\n",
       "      <td>9114_10</td>\n",
       "      <td>1</td>\n",
       "      <td>Considering the lack of art with in African ci...</td>\n",
       "      <td>[considering, the, lack, of, art, with, in, af...</td>\n",
       "      <td>[77306, 37661, 55616, 1507, 91851, 85193, 8166...</td>\n",
       "    </tr>\n",
       "    <tr>\n",
       "      <th>3377</th>\n",
       "      <td>6227_2</td>\n",
       "      <td>0</td>\n",
       "      <td>Good performances can't save this terrible scr...</td>\n",
       "      <td>[good, performances, ca, nt, save, this, terri...</td>\n",
       "      <td>[60321, 25564, 82770, 11727, 48769, 34341, 225...</td>\n",
       "    </tr>\n",
       "    <tr>\n",
       "      <th>13931</th>\n",
       "      <td>9547_9</td>\n",
       "      <td>1</td>\n",
       "      <td>This movie is the first time movie experience ...</td>\n",
       "      <td>[this, movie, is, the, first, time, movie, exp...</td>\n",
       "      <td>[34341, 43545, 16723, 37661, 12979, 60697, 435...</td>\n",
       "    </tr>\n",
       "    <tr>\n",
       "      <th>1403</th>\n",
       "      <td>11287_3</td>\n",
       "      <td>0</td>\n",
       "      <td>This is a film that had a lot to live down to ...</td>\n",
       "      <td>[this, is, a, film, that, had, a, lot, to, liv...</td>\n",
       "      <td>[34341, 16723, 81682, 71474, 85534, 82815, 816...</td>\n",
       "    </tr>\n",
       "    <tr>\n",
       "      <th>6687</th>\n",
       "      <td>10790_8</td>\n",
       "      <td>1</td>\n",
       "      <td>This incredibly formulaic flick from the \\Walk...</td>\n",
       "      <td>[this, incredibly, formulaic, flick, from, the...</td>\n",
       "      <td>[34341, 43352, 39631, 47868, 28899, 37661, 245...</td>\n",
       "    </tr>\n",
       "  </tbody>\n",
       "</table>\n",
       "<p>25000 rows × 5 columns</p>\n",
       "</div>"
      ],
      "text/plain": [
       "            id  Rating                                             review  \\\n",
       "11386  11797_8       1  Powers Booth is hypnotic as cult leader jim jo...   \n",
       "16995  3150_10       1  I haven't liked many TV shows post 1990, but T...   \n",
       "7834   2510_10       1  Moon Child is the story of two brothers and a ...   \n",
       "10933  11776_9       1  Chuck Jones's 'Hare Conditioned' is a fast pac...   \n",
       "21401  10797_8       1  Composed, elegant Carol (marvelously played by...   \n",
       "...        ...     ...                                                ...   \n",
       "19462  9114_10       1  Considering the lack of art with in African ci...   \n",
       "3377    6227_2       0  Good performances can't save this terrible scr...   \n",
       "13931   9547_9       1  This movie is the first time movie experience ...   \n",
       "1403   11287_3       0  This is a film that had a lot to live down to ...   \n",
       "6687   10790_8       1  This incredibly formulaic flick from the \\Walk...   \n",
       "\n",
       "                                                   Words  \\\n",
       "11386  [powers, booth, is, hypnotic, as, cult, leader...   \n",
       "16995  [i, have, nt, liked, many, tv, shows, post, bu...   \n",
       "7834   [moon, child, is, the, story, of, two, brother...   \n",
       "10933  [chuck, jones, s, hare, conditioned, is, a, fa...   \n",
       "21401  [composed, elegant, carol, marvelously, played...   \n",
       "...                                                  ...   \n",
       "19462  [considering, the, lack, of, art, with, in, af...   \n",
       "3377   [good, performances, ca, nt, save, this, terri...   \n",
       "13931  [this, movie, is, the, first, time, movie, exp...   \n",
       "1403   [this, is, a, film, that, had, a, lot, to, liv...   \n",
       "6687   [this, incredibly, formulaic, flick, from, the...   \n",
       "\n",
       "                                                  Tokens  \n",
       "11386  [73286, 1158, 16723, 87114, 33412, 20009, 3854...  \n",
       "16995  [37234, 67596, 11727, 21914, 62788, 65025, 907...  \n",
       "7834   [11834, 11522, 16723, 37661, 37888, 1507, 6723...  \n",
       "10933  [17293, 37179, 32330, 55890, 69976, 16723, 816...  \n",
       "21401  [18608, 84742, 1142, 25581, 75998, 77531, 3766...  \n",
       "...                                                  ...  \n",
       "19462  [77306, 37661, 55616, 1507, 91851, 85193, 8166...  \n",
       "3377   [60321, 25564, 82770, 11727, 48769, 34341, 225...  \n",
       "13931  [34341, 43545, 16723, 37661, 12979, 60697, 435...  \n",
       "1403   [34341, 16723, 81682, 71474, 85534, 82815, 816...  \n",
       "6687   [34341, 43352, 39631, 47868, 28899, 37661, 245...  \n",
       "\n",
       "[25000 rows x 5 columns]"
      ]
     },
     "execution_count": 25,
     "metadata": {},
     "output_type": "execute_result"
    }
   ],
   "source": [
    "df"
   ]
  },
  {
   "cell_type": "code",
   "execution_count": null,
   "metadata": {},
   "outputs": [],
   "source": []
  },
  {
   "cell_type": "code",
   "execution_count": 26,
   "metadata": {},
   "outputs": [],
   "source": [
    "\n",
    "all_tokens = np.array([t for t in df['Tokens']])\n",
    "encoded_labels = np.array([l for l in df['Rating']])"
   ]
  },
  {
   "cell_type": "code",
   "execution_count": 27,
   "metadata": {},
   "outputs": [],
   "source": [
    "# Create blank rows\n",
    "features = np.zeros((len(all_tokens), max_len), dtype=int)\n",
    "# for each phrase, add zeros at the end \n",
    "for i, row in enumerate(all_tokens):\n",
    "    features[i, :len(row)] = row\n"
   ]
  },
  {
   "cell_type": "code",
   "execution_count": 28,
   "metadata": {},
   "outputs": [
    {
     "data": {
      "text/plain": [
       "array([[73286,  1158, 16723, ...,     0,     0,     0],\n",
       "       [37234, 67596, 11727, ...,     0,     0,     0],\n",
       "       [11834, 11522, 16723, ...,     0,     0,     0],\n",
       "       ...,\n",
       "       [34341, 43545, 16723, ...,     0,     0,     0],\n",
       "       [34341, 16723, 81682, ...,     0,     0,     0],\n",
       "       [34341, 43352, 39631, ...,     0,     0,     0]])"
      ]
     },
     "execution_count": 28,
     "metadata": {},
     "output_type": "execute_result"
    }
   ],
   "source": [
    "features"
   ]
  },
  {
   "cell_type": "code",
   "execution_count": 29,
   "metadata": {},
   "outputs": [],
   "source": [
    "from sklearn.model_selection import train_test_split"
   ]
  },
  {
   "cell_type": "code",
   "execution_count": 30,
   "metadata": {},
   "outputs": [],
   "source": [
    "X = features\n",
    "y = encoded_labels\n",
    "X_train, X_test, y_train, y_test = train_test_split(X,y, test_size=0.30, random_state=101)"
   ]
  },
  {
   "cell_type": "code",
   "execution_count": 31,
   "metadata": {},
   "outputs": [],
   "source": [
    "from sklearn.svm import SVC"
   ]
  },
  {
   "cell_type": "code",
   "execution_count": 32,
   "metadata": {},
   "outputs": [],
   "source": [
    "model = SVC()"
   ]
  },
  {
   "cell_type": "code",
   "execution_count": 33,
   "metadata": {},
   "outputs": [
    {
     "data": {
      "text/plain": [
       "SVC(C=1.0, break_ties=False, cache_size=200, class_weight=None, coef0=0.0,\n",
       "    decision_function_shape='ovr', degree=3, gamma='scale', kernel='rbf',\n",
       "    max_iter=-1, probability=False, random_state=None, shrinking=True,\n",
       "    tol=0.001, verbose=False)"
      ]
     },
     "execution_count": 33,
     "metadata": {},
     "output_type": "execute_result"
    }
   ],
   "source": [
    "model.fit(X_train,y_train)"
   ]
  },
  {
   "cell_type": "code",
   "execution_count": 34,
   "metadata": {},
   "outputs": [
    {
     "data": {
      "text/plain": [
       "array([[37661, 25663, 60193, ...,     0,     0,     0],\n",
       "       [15730, 34341, 81682, ...,     0,     0,     0],\n",
       "       [88947, 13097, 16723, ...,     0,     0,     0],\n",
       "       ...,\n",
       "       [37234,  1706, 31521, ...,     0,     0,     0],\n",
       "       [17404, 47927, 26108, ...,     0,     0,     0],\n",
       "       [16667, 31836, 14010, ...,     0,     0,     0]])"
      ]
     },
     "execution_count": 34,
     "metadata": {},
     "output_type": "execute_result"
    }
   ],
   "source": [
    "X_test"
   ]
  },
  {
   "cell_type": "code",
   "execution_count": 35,
   "metadata": {},
   "outputs": [],
   "source": [
    "predictions = model.predict(X_test)"
   ]
  },
  {
   "cell_type": "code",
   "execution_count": 36,
   "metadata": {},
   "outputs": [],
   "source": [
    "from sklearn.metrics import classification_report,confusion_matrix"
   ]
  },
  {
   "cell_type": "code",
   "execution_count": 37,
   "metadata": {},
   "outputs": [
    {
     "name": "stdout",
     "output_type": "stream",
     "text": [
      "[[2083 1636]\n",
      " [1975 1806]]\n"
     ]
    }
   ],
   "source": [
    "print(confusion_matrix(y_test,predictions))"
   ]
  },
  {
   "cell_type": "code",
   "execution_count": 38,
   "metadata": {},
   "outputs": [
    {
     "name": "stdout",
     "output_type": "stream",
     "text": [
      "              precision    recall  f1-score   support\n",
      "\n",
      "           0       0.51      0.56      0.54      3719\n",
      "           1       0.52      0.48      0.50      3781\n",
      "\n",
      "    accuracy                           0.52      7500\n",
      "   macro avg       0.52      0.52      0.52      7500\n",
      "weighted avg       0.52      0.52      0.52      7500\n",
      "\n"
     ]
    }
   ],
   "source": [
    "print(classification_report(y_test,predictions))"
   ]
  },
  {
   "cell_type": "code",
   "execution_count": null,
   "metadata": {},
   "outputs": [],
   "source": []
  }
 ],
 "metadata": {
  "kernelspec": {
   "display_name": "Python 3",
   "language": "python",
   "name": "python3"
  },
  "language_info": {
   "codemirror_mode": {
    "name": "ipython",
    "version": 3
   },
   "file_extension": ".py",
   "mimetype": "text/x-python",
   "name": "python",
   "nbconvert_exporter": "python",
   "pygments_lexer": "ipython3",
   "version": "3.7.6"
  }
 },
 "nbformat": 4,
 "nbformat_minor": 4
}
