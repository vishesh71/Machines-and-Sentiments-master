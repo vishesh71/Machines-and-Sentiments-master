{
 "cells": [
  {
   "cell_type": "markdown",
   "metadata": {},
   "source": [
    "## Importing the Header Files and Reading the Datasets"
   ]
  },
  {
   "cell_type": "code",
   "execution_count": 1,
   "metadata": {},
   "outputs": [],
   "source": [
    "import pandas as pd\n",
    "import numpy as np\n",
    "import nltk\n",
    "from rake_nltk import Rake\n",
    "from sklearn.feature_extraction.text import CountVectorizer\n",
    "from sklearn.metrics.pairwise import cosine_similarity\n",
    "import matplotlib.pyplot as plt\n",
    "pd.options.mode.chained_assignment = None"
   ]
  },
  {
   "cell_type": "code",
   "execution_count": 2,
   "metadata": {},
   "outputs": [],
   "source": [
    "# Reading the datasets into pandas Dataframe\n",
    "df_movies = pd.read_csv(\"IMDb movies.csv\")\n",
    "df_ratings = pd.read_csv(\"IMDb ratings.csv\")"
   ]
  },
  {
   "cell_type": "code",
   "execution_count": 3,
   "metadata": {},
   "outputs": [
    {
     "name": "stdout",
     "output_type": "stream",
     "text": [
      "Columns for Movie Details: \n",
      " Index(['imdb_title_id', 'title', 'original_title', 'year', 'date_published',\n",
      "       'genre', 'duration', 'country', 'language', 'director', 'writer',\n",
      "       'production_company', 'actors', 'description', 'avg_vote', 'votes',\n",
      "       'budget', 'usa_gross_income', 'worlwide_gross_income', 'metascore',\n",
      "       'reviews_from_users', 'reviews_from_critics'],\n",
      "      dtype='object')\n",
      "Columns for Movie Rating statistics: \n",
      " Index(['imdb_title_id', 'weighted_average_vote', 'total_votes', 'mean_vote',\n",
      "       'median_vote', 'votes_10', 'votes_9', 'votes_8', 'votes_7', 'votes_6',\n",
      "       'votes_5', 'votes_4', 'votes_3', 'votes_2', 'votes_1',\n",
      "       'allgenders_0age_avg_vote', 'allgenders_0age_votes',\n",
      "       'allgenders_18age_avg_vote', 'allgenders_18age_votes',\n",
      "       'allgenders_30age_avg_vote', 'allgenders_30age_votes',\n",
      "       'allgenders_45age_avg_vote', 'allgenders_45age_votes',\n",
      "       'males_allages_avg_vote', 'males_allages_votes', 'males_0age_avg_vote',\n",
      "       'males_0age_votes', 'males_18age_avg_vote', 'males_18age_votes',\n",
      "       'males_30age_avg_vote', 'males_30age_votes', 'males_45age_avg_vote',\n",
      "       'males_45age_votes', 'females_allages_avg_vote',\n",
      "       'females_allages_votes', 'females_0age_avg_vote', 'females_0age_votes',\n",
      "       'females_18age_avg_vote', 'females_18age_votes',\n",
      "       'females_30age_avg_vote', 'females_30age_votes',\n",
      "       'females_45age_avg_vote', 'females_45age_votes',\n",
      "       'top1000_voters_rating', 'top1000_voters_votes', 'us_voters_rating',\n",
      "       'us_voters_votes', 'non_us_voters_rating', 'non_us_voters_votes'],\n",
      "      dtype='object')\n"
     ]
    }
   ],
   "source": [
    "# Taking a look at all the columns in the dataframe(s)\n",
    "print(\"Columns for Movie Details: \\n\",df_movies.columns)\n",
    "print(\"Columns for Movie Rating statistics: \\n\", df_ratings.columns)"
   ]
  },
  {
   "cell_type": "code",
   "execution_count": 4,
   "metadata": {},
   "outputs": [
    {
     "data": {
      "text/html": [
       "<div>\n",
       "<style scoped>\n",
       "    .dataframe tbody tr th:only-of-type {\n",
       "        vertical-align: middle;\n",
       "    }\n",
       "\n",
       "    .dataframe tbody tr th {\n",
       "        vertical-align: top;\n",
       "    }\n",
       "\n",
       "    .dataframe thead th {\n",
       "        text-align: right;\n",
       "    }\n",
       "</style>\n",
       "<table border=\"1\" class=\"dataframe\">\n",
       "  <thead>\n",
       "    <tr style=\"text-align: right;\">\n",
       "      <th></th>\n",
       "      <th>imdb_title_id</th>\n",
       "      <th>title</th>\n",
       "      <th>original_title</th>\n",
       "      <th>year</th>\n",
       "      <th>date_published</th>\n",
       "      <th>genre</th>\n",
       "      <th>duration</th>\n",
       "      <th>country</th>\n",
       "      <th>language</th>\n",
       "      <th>director</th>\n",
       "      <th>...</th>\n",
       "      <th>actors</th>\n",
       "      <th>description</th>\n",
       "      <th>avg_vote</th>\n",
       "      <th>votes</th>\n",
       "      <th>budget</th>\n",
       "      <th>usa_gross_income</th>\n",
       "      <th>worlwide_gross_income</th>\n",
       "      <th>metascore</th>\n",
       "      <th>reviews_from_users</th>\n",
       "      <th>reviews_from_critics</th>\n",
       "    </tr>\n",
       "  </thead>\n",
       "  <tbody>\n",
       "    <tr>\n",
       "      <th>0</th>\n",
       "      <td>tt0000574</td>\n",
       "      <td>The Story of the Kelly Gang</td>\n",
       "      <td>The Story of the Kelly Gang</td>\n",
       "      <td>1906</td>\n",
       "      <td>1906-12-26</td>\n",
       "      <td>Biography, Crime, Drama</td>\n",
       "      <td>70</td>\n",
       "      <td>Australia</td>\n",
       "      <td>NaN</td>\n",
       "      <td>Charles Tait</td>\n",
       "      <td>...</td>\n",
       "      <td>Elizabeth Tait, John Tait, Norman Campbell, Be...</td>\n",
       "      <td>True story of notorious Australian outlaw Ned ...</td>\n",
       "      <td>6.1</td>\n",
       "      <td>537</td>\n",
       "      <td>$ 2250</td>\n",
       "      <td>NaN</td>\n",
       "      <td>NaN</td>\n",
       "      <td>NaN</td>\n",
       "      <td>7.0</td>\n",
       "      <td>7.0</td>\n",
       "    </tr>\n",
       "    <tr>\n",
       "      <th>1</th>\n",
       "      <td>tt0001892</td>\n",
       "      <td>Den sorte drøm</td>\n",
       "      <td>Den sorte drøm</td>\n",
       "      <td>1911</td>\n",
       "      <td>1911-08-19</td>\n",
       "      <td>Drama</td>\n",
       "      <td>53</td>\n",
       "      <td>Germany, Denmark</td>\n",
       "      <td>NaN</td>\n",
       "      <td>Urban Gad</td>\n",
       "      <td>...</td>\n",
       "      <td>Asta Nielsen, Valdemar Psilander, Gunnar Helse...</td>\n",
       "      <td>Two men of high rank are both wooing the beaut...</td>\n",
       "      <td>5.9</td>\n",
       "      <td>171</td>\n",
       "      <td>NaN</td>\n",
       "      <td>NaN</td>\n",
       "      <td>NaN</td>\n",
       "      <td>NaN</td>\n",
       "      <td>4.0</td>\n",
       "      <td>2.0</td>\n",
       "    </tr>\n",
       "    <tr>\n",
       "      <th>2</th>\n",
       "      <td>tt0002101</td>\n",
       "      <td>Cleopatra</td>\n",
       "      <td>Cleopatra</td>\n",
       "      <td>1912</td>\n",
       "      <td>1912-11-13</td>\n",
       "      <td>Drama, History</td>\n",
       "      <td>100</td>\n",
       "      <td>USA</td>\n",
       "      <td>English</td>\n",
       "      <td>Charles L. Gaskill</td>\n",
       "      <td>...</td>\n",
       "      <td>Helen Gardner, Pearl Sindelar, Miss Fielding, ...</td>\n",
       "      <td>The fabled queen of Egypt's affair with Roman ...</td>\n",
       "      <td>5.2</td>\n",
       "      <td>420</td>\n",
       "      <td>$ 45000</td>\n",
       "      <td>NaN</td>\n",
       "      <td>NaN</td>\n",
       "      <td>NaN</td>\n",
       "      <td>24.0</td>\n",
       "      <td>3.0</td>\n",
       "    </tr>\n",
       "    <tr>\n",
       "      <th>3</th>\n",
       "      <td>tt0002130</td>\n",
       "      <td>L'Inferno</td>\n",
       "      <td>L'Inferno</td>\n",
       "      <td>1911</td>\n",
       "      <td>1911-03-06</td>\n",
       "      <td>Adventure, Drama, Fantasy</td>\n",
       "      <td>68</td>\n",
       "      <td>Italy</td>\n",
       "      <td>Italian</td>\n",
       "      <td>Francesco Bertolini, Adolfo Padovan</td>\n",
       "      <td>...</td>\n",
       "      <td>Salvatore Papa, Arturo Pirovano, Giuseppe de L...</td>\n",
       "      <td>Loosely adapted from Dante's Divine Comedy and...</td>\n",
       "      <td>7.0</td>\n",
       "      <td>2019</td>\n",
       "      <td>NaN</td>\n",
       "      <td>NaN</td>\n",
       "      <td>NaN</td>\n",
       "      <td>NaN</td>\n",
       "      <td>28.0</td>\n",
       "      <td>14.0</td>\n",
       "    </tr>\n",
       "    <tr>\n",
       "      <th>4</th>\n",
       "      <td>tt0002199</td>\n",
       "      <td>From the Manger to the Cross; or, Jesus of Naz...</td>\n",
       "      <td>From the Manger to the Cross; or, Jesus of Naz...</td>\n",
       "      <td>1912</td>\n",
       "      <td>1913</td>\n",
       "      <td>Biography, Drama</td>\n",
       "      <td>60</td>\n",
       "      <td>USA</td>\n",
       "      <td>English</td>\n",
       "      <td>Sidney Olcott</td>\n",
       "      <td>...</td>\n",
       "      <td>R. Henderson Bland, Percy Dyer, Gene Gauntier,...</td>\n",
       "      <td>An account of the life of Jesus Christ, based ...</td>\n",
       "      <td>5.7</td>\n",
       "      <td>438</td>\n",
       "      <td>NaN</td>\n",
       "      <td>NaN</td>\n",
       "      <td>NaN</td>\n",
       "      <td>NaN</td>\n",
       "      <td>12.0</td>\n",
       "      <td>5.0</td>\n",
       "    </tr>\n",
       "  </tbody>\n",
       "</table>\n",
       "<p>5 rows × 22 columns</p>\n",
       "</div>"
      ],
      "text/plain": [
       "  imdb_title_id                                              title  \\\n",
       "0     tt0000574                        The Story of the Kelly Gang   \n",
       "1     tt0001892                                     Den sorte drøm   \n",
       "2     tt0002101                                          Cleopatra   \n",
       "3     tt0002130                                          L'Inferno   \n",
       "4     tt0002199  From the Manger to the Cross; or, Jesus of Naz...   \n",
       "\n",
       "                                      original_title  year date_published  \\\n",
       "0                        The Story of the Kelly Gang  1906     1906-12-26   \n",
       "1                                     Den sorte drøm  1911     1911-08-19   \n",
       "2                                          Cleopatra  1912     1912-11-13   \n",
       "3                                          L'Inferno  1911     1911-03-06   \n",
       "4  From the Manger to the Cross; or, Jesus of Naz...  1912           1913   \n",
       "\n",
       "                       genre  duration           country language  \\\n",
       "0    Biography, Crime, Drama        70         Australia      NaN   \n",
       "1                      Drama        53  Germany, Denmark      NaN   \n",
       "2             Drama, History       100               USA  English   \n",
       "3  Adventure, Drama, Fantasy        68             Italy  Italian   \n",
       "4           Biography, Drama        60               USA  English   \n",
       "\n",
       "                              director  ...  \\\n",
       "0                         Charles Tait  ...   \n",
       "1                            Urban Gad  ...   \n",
       "2                   Charles L. Gaskill  ...   \n",
       "3  Francesco Bertolini, Adolfo Padovan  ...   \n",
       "4                        Sidney Olcott  ...   \n",
       "\n",
       "                                              actors  \\\n",
       "0  Elizabeth Tait, John Tait, Norman Campbell, Be...   \n",
       "1  Asta Nielsen, Valdemar Psilander, Gunnar Helse...   \n",
       "2  Helen Gardner, Pearl Sindelar, Miss Fielding, ...   \n",
       "3  Salvatore Papa, Arturo Pirovano, Giuseppe de L...   \n",
       "4  R. Henderson Bland, Percy Dyer, Gene Gauntier,...   \n",
       "\n",
       "                                         description avg_vote votes   budget  \\\n",
       "0  True story of notorious Australian outlaw Ned ...      6.1   537   $ 2250   \n",
       "1  Two men of high rank are both wooing the beaut...      5.9   171      NaN   \n",
       "2  The fabled queen of Egypt's affair with Roman ...      5.2   420  $ 45000   \n",
       "3  Loosely adapted from Dante's Divine Comedy and...      7.0  2019      NaN   \n",
       "4  An account of the life of Jesus Christ, based ...      5.7   438      NaN   \n",
       "\n",
       "   usa_gross_income worlwide_gross_income metascore reviews_from_users  \\\n",
       "0               NaN                   NaN       NaN                7.0   \n",
       "1               NaN                   NaN       NaN                4.0   \n",
       "2               NaN                   NaN       NaN               24.0   \n",
       "3               NaN                   NaN       NaN               28.0   \n",
       "4               NaN                   NaN       NaN               12.0   \n",
       "\n",
       "   reviews_from_critics  \n",
       "0                   7.0  \n",
       "1                   2.0  \n",
       "2                   3.0  \n",
       "3                  14.0  \n",
       "4                   5.0  \n",
       "\n",
       "[5 rows x 22 columns]"
      ]
     },
     "execution_count": 4,
     "metadata": {},
     "output_type": "execute_result"
    }
   ],
   "source": [
    "# Taking a look at the Movie Details Dataframe\n",
    "df_movies.head()"
   ]
  },
  {
   "cell_type": "code",
   "execution_count": 5,
   "metadata": {},
   "outputs": [
    {
     "data": {
      "text/html": [
       "<div>\n",
       "<style scoped>\n",
       "    .dataframe tbody tr th:only-of-type {\n",
       "        vertical-align: middle;\n",
       "    }\n",
       "\n",
       "    .dataframe tbody tr th {\n",
       "        vertical-align: top;\n",
       "    }\n",
       "\n",
       "    .dataframe thead th {\n",
       "        text-align: right;\n",
       "    }\n",
       "</style>\n",
       "<table border=\"1\" class=\"dataframe\">\n",
       "  <thead>\n",
       "    <tr style=\"text-align: right;\">\n",
       "      <th></th>\n",
       "      <th>imdb_title_id</th>\n",
       "      <th>weighted_average_vote</th>\n",
       "      <th>total_votes</th>\n",
       "      <th>mean_vote</th>\n",
       "      <th>median_vote</th>\n",
       "      <th>votes_10</th>\n",
       "      <th>votes_9</th>\n",
       "      <th>votes_8</th>\n",
       "      <th>votes_7</th>\n",
       "      <th>votes_6</th>\n",
       "      <th>...</th>\n",
       "      <th>females_30age_avg_vote</th>\n",
       "      <th>females_30age_votes</th>\n",
       "      <th>females_45age_avg_vote</th>\n",
       "      <th>females_45age_votes</th>\n",
       "      <th>top1000_voters_rating</th>\n",
       "      <th>top1000_voters_votes</th>\n",
       "      <th>us_voters_rating</th>\n",
       "      <th>us_voters_votes</th>\n",
       "      <th>non_us_voters_rating</th>\n",
       "      <th>non_us_voters_votes</th>\n",
       "    </tr>\n",
       "  </thead>\n",
       "  <tbody>\n",
       "    <tr>\n",
       "      <th>0</th>\n",
       "      <td>tt0000574</td>\n",
       "      <td>6.1</td>\n",
       "      <td>537</td>\n",
       "      <td>6.3</td>\n",
       "      <td>6.0</td>\n",
       "      <td>54</td>\n",
       "      <td>17</td>\n",
       "      <td>55</td>\n",
       "      <td>121</td>\n",
       "      <td>122</td>\n",
       "      <td>...</td>\n",
       "      <td>6.0</td>\n",
       "      <td>19.0</td>\n",
       "      <td>6.6</td>\n",
       "      <td>14.0</td>\n",
       "      <td>6.3</td>\n",
       "      <td>64.0</td>\n",
       "      <td>6.0</td>\n",
       "      <td>89.0</td>\n",
       "      <td>6.2</td>\n",
       "      <td>309.0</td>\n",
       "    </tr>\n",
       "    <tr>\n",
       "      <th>1</th>\n",
       "      <td>tt0001892</td>\n",
       "      <td>5.9</td>\n",
       "      <td>171</td>\n",
       "      <td>6.1</td>\n",
       "      <td>6.0</td>\n",
       "      <td>5</td>\n",
       "      <td>6</td>\n",
       "      <td>17</td>\n",
       "      <td>41</td>\n",
       "      <td>52</td>\n",
       "      <td>...</td>\n",
       "      <td>5.8</td>\n",
       "      <td>4.0</td>\n",
       "      <td>6.5</td>\n",
       "      <td>8.0</td>\n",
       "      <td>5.9</td>\n",
       "      <td>29.0</td>\n",
       "      <td>6.2</td>\n",
       "      <td>27.0</td>\n",
       "      <td>6.0</td>\n",
       "      <td>114.0</td>\n",
       "    </tr>\n",
       "    <tr>\n",
       "      <th>2</th>\n",
       "      <td>tt0002101</td>\n",
       "      <td>5.2</td>\n",
       "      <td>420</td>\n",
       "      <td>5.2</td>\n",
       "      <td>5.0</td>\n",
       "      <td>12</td>\n",
       "      <td>8</td>\n",
       "      <td>16</td>\n",
       "      <td>60</td>\n",
       "      <td>89</td>\n",
       "      <td>...</td>\n",
       "      <td>5.5</td>\n",
       "      <td>14.0</td>\n",
       "      <td>6.2</td>\n",
       "      <td>20.0</td>\n",
       "      <td>4.9</td>\n",
       "      <td>57.0</td>\n",
       "      <td>5.5</td>\n",
       "      <td>197.0</td>\n",
       "      <td>4.7</td>\n",
       "      <td>103.0</td>\n",
       "    </tr>\n",
       "    <tr>\n",
       "      <th>3</th>\n",
       "      <td>tt0002130</td>\n",
       "      <td>7.0</td>\n",
       "      <td>2019</td>\n",
       "      <td>6.9</td>\n",
       "      <td>7.0</td>\n",
       "      <td>194</td>\n",
       "      <td>208</td>\n",
       "      <td>386</td>\n",
       "      <td>571</td>\n",
       "      <td>308</td>\n",
       "      <td>...</td>\n",
       "      <td>7.3</td>\n",
       "      <td>74.0</td>\n",
       "      <td>7.4</td>\n",
       "      <td>75.0</td>\n",
       "      <td>7.0</td>\n",
       "      <td>126.0</td>\n",
       "      <td>7.1</td>\n",
       "      <td>452.0</td>\n",
       "      <td>7.0</td>\n",
       "      <td>1076.0</td>\n",
       "    </tr>\n",
       "    <tr>\n",
       "      <th>4</th>\n",
       "      <td>tt0002199</td>\n",
       "      <td>5.7</td>\n",
       "      <td>438</td>\n",
       "      <td>5.8</td>\n",
       "      <td>6.0</td>\n",
       "      <td>28</td>\n",
       "      <td>15</td>\n",
       "      <td>42</td>\n",
       "      <td>75</td>\n",
       "      <td>114</td>\n",
       "      <td>...</td>\n",
       "      <td>4.8</td>\n",
       "      <td>10.0</td>\n",
       "      <td>6.5</td>\n",
       "      <td>15.0</td>\n",
       "      <td>5.7</td>\n",
       "      <td>56.0</td>\n",
       "      <td>5.9</td>\n",
       "      <td>161.0</td>\n",
       "      <td>5.7</td>\n",
       "      <td>164.0</td>\n",
       "    </tr>\n",
       "  </tbody>\n",
       "</table>\n",
       "<p>5 rows × 49 columns</p>\n",
       "</div>"
      ],
      "text/plain": [
       "  imdb_title_id  weighted_average_vote  total_votes  mean_vote  median_vote  \\\n",
       "0     tt0000574                    6.1          537        6.3          6.0   \n",
       "1     tt0001892                    5.9          171        6.1          6.0   \n",
       "2     tt0002101                    5.2          420        5.2          5.0   \n",
       "3     tt0002130                    7.0         2019        6.9          7.0   \n",
       "4     tt0002199                    5.7          438        5.8          6.0   \n",
       "\n",
       "   votes_10  votes_9  votes_8  votes_7  votes_6  ...  females_30age_avg_vote  \\\n",
       "0        54       17       55      121      122  ...                     6.0   \n",
       "1         5        6       17       41       52  ...                     5.8   \n",
       "2        12        8       16       60       89  ...                     5.5   \n",
       "3       194      208      386      571      308  ...                     7.3   \n",
       "4        28       15       42       75      114  ...                     4.8   \n",
       "\n",
       "   females_30age_votes  females_45age_avg_vote  females_45age_votes  \\\n",
       "0                 19.0                     6.6                 14.0   \n",
       "1                  4.0                     6.5                  8.0   \n",
       "2                 14.0                     6.2                 20.0   \n",
       "3                 74.0                     7.4                 75.0   \n",
       "4                 10.0                     6.5                 15.0   \n",
       "\n",
       "   top1000_voters_rating  top1000_voters_votes  us_voters_rating  \\\n",
       "0                    6.3                  64.0               6.0   \n",
       "1                    5.9                  29.0               6.2   \n",
       "2                    4.9                  57.0               5.5   \n",
       "3                    7.0                 126.0               7.1   \n",
       "4                    5.7                  56.0               5.9   \n",
       "\n",
       "   us_voters_votes  non_us_voters_rating  non_us_voters_votes  \n",
       "0             89.0                   6.2                309.0  \n",
       "1             27.0                   6.0                114.0  \n",
       "2            197.0                   4.7                103.0  \n",
       "3            452.0                   7.0               1076.0  \n",
       "4            161.0                   5.7                164.0  \n",
       "\n",
       "[5 rows x 49 columns]"
      ]
     },
     "execution_count": 5,
     "metadata": {},
     "output_type": "execute_result"
    }
   ],
   "source": [
    "# Taking a look at the Movie Rating Statistics Dataframe\n",
    "df_ratings.head()"
   ]
  },
  {
   "cell_type": "markdown",
   "metadata": {},
   "source": [
    "## Data Cleaning"
   ]
  },
  {
   "cell_type": "code",
   "execution_count": 6,
   "metadata": {},
   "outputs": [],
   "source": [
    "# Removing all the unwanted columns from the two Dataframes\n",
    "df_movies = df_movies[['imdb_title_id','title', 'duration', 'year', 'genre', 'language', 'actors', 'director','description']]\n",
    "df_ratings = df_ratings[['imdb_title_id', 'mean_vote', 'weighted_average_vote','median_vote', 'total_votes']]"
   ]
  },
  {
   "cell_type": "code",
   "execution_count": 7,
   "metadata": {},
   "outputs": [
    {
     "name": "stdout",
     "output_type": "stream",
     "text": [
      "Columns for Movie Details: \n",
      " Index(['imdb_title_id', 'title', 'duration', 'year', 'genre', 'language',\n",
      "       'actors', 'director', 'description'],\n",
      "      dtype='object')\n",
      "Columns for Movie Rating statistics: \n",
      " Index(['imdb_title_id', 'mean_vote', 'weighted_average_vote', 'median_vote',\n",
      "       'total_votes'],\n",
      "      dtype='object')\n"
     ]
    }
   ],
   "source": [
    "#Again Taking a look at all the columns in the dataframe(s) after dropping unwanted columns\n",
    "print(\"Columns for Movie Details: \\n\",df_movies.columns)\n",
    "print(\"Columns for Movie Rating statistics: \\n\", df_ratings.columns)"
   ]
  },
  {
   "cell_type": "code",
   "execution_count": 8,
   "metadata": {},
   "outputs": [
    {
     "name": "stdout",
     "output_type": "stream",
     "text": [
      "Shape, Before dropping Nan Values:  (81273, 13)\n",
      "Shape, After dropping Nan Values:  (78011, 13)\n"
     ]
    }
   ],
   "source": [
    "# Merging the two dataframes and dropping all the nan values\n",
    "df = pd.merge(df_movies, df_ratings, on='imdb_title_id')\n",
    "print(\"Shape, Before dropping Nan Values: \",df.shape)\n",
    "df.dropna(inplace = True)\n",
    "print(\"Shape, After dropping Nan Values: \",df.shape)"
   ]
  },
  {
   "cell_type": "code",
   "execution_count": 9,
   "metadata": {},
   "outputs": [
    {
     "name": "stdout",
     "output_type": "stream",
     "text": [
      "Shape, After dropping Nan Values:  (13460, 13)\n"
     ]
    },
    {
     "data": {
      "text/plain": [
       "(13460, 13)"
      ]
     },
     "execution_count": 9,
     "metadata": {},
     "output_type": "execute_result"
    }
   ],
   "source": [
    "# Take only the movies which are in English, Hindi, Malayalam, Tamil, Telugu, Kannada\n",
    "# Converting all strings to lowercase\n",
    "df2 = df.loc[df['language'].str.contains(r'English')]\n",
    "df2 = df2.loc[(df2['mean_vote'] >= 6) & (df['total_votes'] >= 1000)] # Take all English Movies with Rating greater than 6\n",
    "df2 = df2[df2['year'] >= 1970]\n",
    "df3 = df[df['language'].str.contains(r'Tamil|Kannada|Telugu|Hindi|Malayalam')]\n",
    "df3 = df3[(df3['mean_vote'] >= 5) & (df3['total_votes'] >= 500)]\n",
    "#print(\"Shape of the dataframe after dropping selected movies: \",df.shape)\n",
    "\n",
    "df = pd.concat([df2,df3])\n",
    "df = df.apply(lambda x: x.str.lower() if(x.dtype == 'O') else x)\n",
    "df = df.drop_duplicates(subset=['title','year'], keep = 'last')\n",
    "df.dropna(inplace = True)\n",
    "print(\"Shape, After dropping Nan Values: \",df.shape)\n",
    "df.reset_index(drop=True,inplace=True)\n",
    "df.shape"
   ]
  },
  {
   "cell_type": "code",
   "execution_count": 10,
   "metadata": {},
   "outputs": [
    {
     "data": {
      "text/html": [
       "<div>\n",
       "<style scoped>\n",
       "    .dataframe tbody tr th:only-of-type {\n",
       "        vertical-align: middle;\n",
       "    }\n",
       "\n",
       "    .dataframe tbody tr th {\n",
       "        vertical-align: top;\n",
       "    }\n",
       "\n",
       "    .dataframe thead th {\n",
       "        text-align: right;\n",
       "    }\n",
       "</style>\n",
       "<table border=\"1\" class=\"dataframe\">\n",
       "  <thead>\n",
       "    <tr style=\"text-align: right;\">\n",
       "      <th></th>\n",
       "      <th>imdb_title_id</th>\n",
       "      <th>title</th>\n",
       "      <th>duration</th>\n",
       "      <th>year</th>\n",
       "      <th>genre</th>\n",
       "      <th>language</th>\n",
       "      <th>actors</th>\n",
       "      <th>director</th>\n",
       "      <th>description</th>\n",
       "      <th>mean_vote</th>\n",
       "      <th>weighted_average_vote</th>\n",
       "      <th>median_vote</th>\n",
       "      <th>total_votes</th>\n",
       "    </tr>\n",
       "  </thead>\n",
       "  <tbody>\n",
       "    <tr>\n",
       "      <th>0</th>\n",
       "      <td>tt0035423</td>\n",
       "      <td>kate &amp; leopold</td>\n",
       "      <td>118</td>\n",
       "      <td>2001</td>\n",
       "      <td>comedy, fantasy, romance</td>\n",
       "      <td>english, french</td>\n",
       "      <td>meg ryan, hugh jackman, liev schreiber, brecki...</td>\n",
       "      <td>james mangold</td>\n",
       "      <td>an english duke from 1876 is inadvertedly drag...</td>\n",
       "      <td>6.6</td>\n",
       "      <td>6.4</td>\n",
       "      <td>7.0</td>\n",
       "      <td>75298</td>\n",
       "    </tr>\n",
       "    <tr>\n",
       "      <th>1</th>\n",
       "      <td>tt0064177</td>\n",
       "      <td>colossus: the forbin project</td>\n",
       "      <td>100</td>\n",
       "      <td>1970</td>\n",
       "      <td>sci-fi, thriller</td>\n",
       "      <td>english, russian</td>\n",
       "      <td>eric braeden, susan clark, gordon pinsent, wil...</td>\n",
       "      <td>joseph sargent</td>\n",
       "      <td>thinking this will prevent war, the us governm...</td>\n",
       "      <td>7.3</td>\n",
       "      <td>7.1</td>\n",
       "      <td>7.0</td>\n",
       "      <td>7591</td>\n",
       "    </tr>\n",
       "    <tr>\n",
       "      <th>2</th>\n",
       "      <td>tt0064437</td>\n",
       "      <td>the honeymoon killers</td>\n",
       "      <td>107</td>\n",
       "      <td>1970</td>\n",
       "      <td>crime, drama, romance</td>\n",
       "      <td>english</td>\n",
       "      <td>shirley stoler, tony lo bianco, mary jane higb...</td>\n",
       "      <td>leonard kastle, donald volkman</td>\n",
       "      <td>an obese, embittered nurse doesn't mind if her...</td>\n",
       "      <td>7.1</td>\n",
       "      <td>7.0</td>\n",
       "      <td>7.0</td>\n",
       "      <td>3996</td>\n",
       "    </tr>\n",
       "    <tr>\n",
       "      <th>3</th>\n",
       "      <td>tt0064704</td>\n",
       "      <td>mumsy, nanny, sonny &amp; girly</td>\n",
       "      <td>102</td>\n",
       "      <td>1970</td>\n",
       "      <td>comedy, crime, horror</td>\n",
       "      <td>english</td>\n",
       "      <td>michael bryant, ursula howells, pat heywood, h...</td>\n",
       "      <td>freddie francis</td>\n",
       "      <td>a wealthy, fatherless british clan kidnaps bum...</td>\n",
       "      <td>6.7</td>\n",
       "      <td>6.6</td>\n",
       "      <td>7.0</td>\n",
       "      <td>1025</td>\n",
       "    </tr>\n",
       "    <tr>\n",
       "      <th>4</th>\n",
       "      <td>tt0064791</td>\n",
       "      <td>le passager de la pluie</td>\n",
       "      <td>120</td>\n",
       "      <td>1970</td>\n",
       "      <td>crime, drama, mystery</td>\n",
       "      <td>french, english</td>\n",
       "      <td>charles bronson, marlène jobert, gabriele tint...</td>\n",
       "      <td>rené clément</td>\n",
       "      <td>a us army colonel in france tries to track dow...</td>\n",
       "      <td>7.1</td>\n",
       "      <td>6.9</td>\n",
       "      <td>7.0</td>\n",
       "      <td>2558</td>\n",
       "    </tr>\n",
       "  </tbody>\n",
       "</table>\n",
       "</div>"
      ],
      "text/plain": [
       "  imdb_title_id                         title  duration  year  \\\n",
       "0     tt0035423                kate & leopold       118  2001   \n",
       "1     tt0064177  colossus: the forbin project       100  1970   \n",
       "2     tt0064437         the honeymoon killers       107  1970   \n",
       "3     tt0064704   mumsy, nanny, sonny & girly       102  1970   \n",
       "4     tt0064791       le passager de la pluie       120  1970   \n",
       "\n",
       "                      genre          language  \\\n",
       "0  comedy, fantasy, romance   english, french   \n",
       "1          sci-fi, thriller  english, russian   \n",
       "2     crime, drama, romance           english   \n",
       "3     comedy, crime, horror           english   \n",
       "4     crime, drama, mystery   french, english   \n",
       "\n",
       "                                              actors  \\\n",
       "0  meg ryan, hugh jackman, liev schreiber, brecki...   \n",
       "1  eric braeden, susan clark, gordon pinsent, wil...   \n",
       "2  shirley stoler, tony lo bianco, mary jane higb...   \n",
       "3  michael bryant, ursula howells, pat heywood, h...   \n",
       "4  charles bronson, marlène jobert, gabriele tint...   \n",
       "\n",
       "                         director  \\\n",
       "0                   james mangold   \n",
       "1                  joseph sargent   \n",
       "2  leonard kastle, donald volkman   \n",
       "3                 freddie francis   \n",
       "4                    rené clément   \n",
       "\n",
       "                                         description  mean_vote  \\\n",
       "0  an english duke from 1876 is inadvertedly drag...        6.6   \n",
       "1  thinking this will prevent war, the us governm...        7.3   \n",
       "2  an obese, embittered nurse doesn't mind if her...        7.1   \n",
       "3  a wealthy, fatherless british clan kidnaps bum...        6.7   \n",
       "4  a us army colonel in france tries to track dow...        7.1   \n",
       "\n",
       "   weighted_average_vote  median_vote  total_votes  \n",
       "0                    6.4          7.0        75298  \n",
       "1                    7.1          7.0         7591  \n",
       "2                    7.0          7.0         3996  \n",
       "3                    6.6          7.0         1025  \n",
       "4                    6.9          7.0         2558  "
      ]
     },
     "execution_count": 10,
     "metadata": {},
     "output_type": "execute_result"
    }
   ],
   "source": [
    "df.head()"
   ]
  },
  {
   "cell_type": "markdown",
   "metadata": {},
   "source": [
    "## Data Analysis"
   ]
  },
  {
   "cell_type": "code",
   "execution_count": 11,
   "metadata": {},
   "outputs": [
    {
     "data": {
      "text/plain": [
       "<matplotlib.axes._subplots.AxesSubplot at 0x7f7b62d7c610>"
      ]
     },
     "execution_count": 11,
     "metadata": {},
     "output_type": "execute_result"
    },
    {
     "data": {
      "image/png": "[encoded data removed]",
      "text/plain": [
       "<Figure size 864x720 with 1 Axes>"
      ]
     },
     "metadata": {
      "needs_background": "light"
     },
     "output_type": "display_data"
    }
   ],
   "source": [
    "# Taking a look at the different movie languages\n",
    "df['language'].value_counts()[1:20].plot(kind = 'bar', figsize = [12,10])"
   ]
  },
  {
   "cell_type": "code",
   "execution_count": 12,
   "metadata": {},
   "outputs": [
    {
     "data": {
      "text/plain": [
       "<matplotlib.axes._subplots.AxesSubplot at 0x7f7b612262d0>"
      ]
     },
     "execution_count": 12,
     "metadata": {},
     "output_type": "execute_result"
    },
    {
     "data": {
      "image/png": "[encoded data removed]",
      "text/plain": [
       "<Figure size 864x720 with 1 Axes>"
      ]
     },
     "metadata": {
      "needs_background": "light"
     },
     "output_type": "display_data"
    }
   ],
   "source": [
    "# Taking a look at the number of movies released in a year\n",
    "df['year'].value_counts()[1:20].plot(kind = 'bar', figsize = [12,10], color='green')"
   ]
  },
  {
   "cell_type": "code",
   "execution_count": 13,
   "metadata": {},
   "outputs": [
    {
     "data": {
      "text/plain": [
       "<matplotlib.axes._subplots.AxesSubplot at 0x7f7b60dffc10>"
      ]
     },
     "execution_count": 13,
     "metadata": {},
     "output_type": "execute_result"
    },
    {
     "data": {
      "image/png": "[encoded data removed]",
      "text/plain": [
       "<Figure size 864x720 with 1 Axes>"
      ]
     },
     "metadata": {
      "needs_background": "light"
     },
     "output_type": "display_data"
    }
   ],
   "source": [
    "# Taking a look at the number of movies based on the different Genres\n",
    "df['genre'].value_counts()[1:20].plot(kind = 'bar', figsize = [12,10], color='red')"
   ]
  },
  {
   "cell_type": "markdown",
   "metadata": {},
   "source": [
    "## Data Preprocessing (Removing Stop-words, Capital Letters to Lower Case)"
   ]
  },
  {
   "cell_type": "code",
   "execution_count": 14,
   "metadata": {},
   "outputs": [
    {
     "name": "stdout",
     "output_type": "stream",
     "text": [
      "0        [english, duke, inadvertedly, dragged, modern,...\n",
      "1        [launching, nuclear, missiles, creators, unima...\n",
      "2        [mind, fleeces, along, embittered, nurse, toup...\n",
      "3        [attempt, escape, fatherless, british, clan, k...\n",
      "4        [france, tries, track, escaped, sex, maniac, u...\n",
      "                               ...                        \n",
      "13455    [story, three, friends, studying, inter, consi...\n",
      "13456    [psychiatrist, autistic, patient, isolated, ho...\n",
      "13457    [path, injured, cop, wants, convicted, crimina...\n",
      "13458    [lives, abhi, trivandrum, two, youngsters, day...\n",
      "13459    [mother, sixty, year, old, dalit, worker, azha...\n",
      "Name: Key_words, Length: 13460, dtype: object\n"
     ]
    }
   ],
   "source": [
    "df['Key_words'] = ''\n",
    "r = Rake()\n",
    "for index, row in df.iterrows():\n",
    "    r.extract_keywords_from_text(row['description'])\n",
    "    key_words_dict_scores = r.get_word_degrees()\n",
    "    row['Key_words'] = list(key_words_dict_scores.keys())\n",
    "    df['Key_words'][index] = row['Key_words']\n",
    "print(df['Key_words'])"
   ]
  },
  {
   "cell_type": "code",
   "execution_count": 15,
   "metadata": {},
   "outputs": [],
   "source": [
    "df['genre'] = df['genre'].map(lambda x: x.split(','))\n",
    "for index, row in df.iterrows():\n",
    "    row['genre'] = [x.lower().replace(' ','') for x in row['genre']]"
   ]
  },
  {
   "cell_type": "code",
   "execution_count": 16,
   "metadata": {},
   "outputs": [],
   "source": [
    "df['Bag_of_words'] = ''\n",
    "columns = ['genre', 'Key_words']\n",
    "for index, row in df.iterrows():\n",
    "    words = ''\n",
    "    for col in columns:\n",
    "        words += ' '.join(row[col]) + ' '\n",
    "    row['Bag_of_words'] = words\n",
    "    df['Bag_of_words'][index] = words\n",
    "    \n",
    "dfn = df[['title','Bag_of_words']]"
   ]
  },
  {
   "cell_type": "code",
   "execution_count": 17,
   "metadata": {},
   "outputs": [
    {
     "data": {
      "text/plain": [
       "0        comedy  fantasy  romance english duke inadvert...\n",
       "1        sci-fi  thriller launching nuclear missiles cr...\n",
       "2        crime  drama  romance mind fleeces along embit...\n",
       "3        comedy  crime  horror attempt escape fatherles...\n",
       "4        crime  drama  mystery france tries track escap...\n",
       "                               ...                        \n",
       "13455    comedy story three friends studying inter cons...\n",
       "13456    mystery  thriller psychiatrist autistic patien...\n",
       "13457    action  thriller path injured cop wants convic...\n",
       "13458    drama lives abhi trivandrum two youngsters day...\n",
       "13459    drama mother sixty year old dalit worker azhag...\n",
       "Name: Bag_of_words, Length: 13460, dtype: object"
      ]
     },
     "execution_count": 17,
     "metadata": {},
     "output_type": "execute_result"
    }
   ],
   "source": [
    "dfn['Bag_of_words']"
   ]
  },
  {
   "cell_type": "code",
   "execution_count": 18,
   "metadata": {},
   "outputs": [],
   "source": [
    "# Function to Perform Cosine Similarity in Batches\n",
    "def cosine_similarity_n_space(m1, m2, batch_size=10000):\n",
    "    assert m1.shape[1] == m2.shape[1]\n",
    "    ret = np.ndarray((m1.shape[0], m2.shape[0]))\n",
    "    for row_i in range(0, int(m1.shape[0] / batch_size) + 1):\n",
    "        start = row_i * batch_size\n",
    "        end = min([(row_i + 1) * batch_size, m1.shape[0]])\n",
    "        if end <= start:\n",
    "            break \n",
    "        rows = m1[start: end]\n",
    "        sim = cosine_similarity(rows, m2) \n",
    "        ret[start: end] = sim\n",
    "    return ret"
   ]
  },
  {
   "cell_type": "code",
   "execution_count": 19,
   "metadata": {
    "scrolled": true
   },
   "outputs": [
    {
     "name": "stdout",
     "output_type": "stream",
     "text": [
      "[[1.         0.         0.05892557 ... 0.         0.06063391 0.        ]\n",
      " [0.         1.         0.         ... 0.04662524 0.         0.        ]\n",
      " [0.05892557 0.         1.         ... 0.         0.0571662  0.04811252]\n",
      " ...\n",
      " [0.         0.04662524 0.         ... 1.         0.05057217 0.04256283]\n",
      " [0.06063391 0.         0.0571662  ... 0.05057217 1.         0.04950738]\n",
      " [0.         0.         0.04811252 ... 0.04256283 0.04950738 1.        ]]\n"
     ]
    }
   ],
   "source": [
    "# Creating a Cosine matrix to compare Movies\n",
    "count = CountVectorizer()\n",
    "count_matrix = count.fit_transform(dfn['Bag_of_words'])\n",
    "cosine_sim = cosine_similarity_n_space(count_matrix, count_matrix)\n",
    "print(cosine_sim)"
   ]
  },
  {
   "cell_type": "code",
   "execution_count": 20,
   "metadata": {},
   "outputs": [],
   "source": [
    "indices = pd.Series(dfn['title'])\n",
    "def recommend(title, num=10, cosine_sim = cosine_sim):\n",
    "    recommended_movies = []\n",
    "    try:\n",
    "        idx = indices[indices == title].index[0]\n",
    "        score_series = pd.Series(cosine_sim[idx]).sort_values(ascending = False)\n",
    "        indx = list(score_series.iloc[1:num+1].index)\n",
    "\n",
    "        for i in indx:\n",
    "            recommended_movies.append(list(dfn['title'])[i])\n",
    "        print(\"\\nGreat Choice. Here is the list of similar movies:\")\n",
    "        k = 1;\n",
    "        for i in recommended_movies:\n",
    "            print(k,i.title())\n",
    "            k+=1;\n",
    "        return False\n",
    "    except:\n",
    "        print(\"I'm sorry but I could not find such a movie in our Database.\")\n",
    "        print(\"I'd recommend you to check the spelling of the movie you entered.\")\n",
    "        print(\"Also make sure it belongs to the same genre and language you had entered before.\")\n",
    "        return True"
   ]
  },
  {
   "cell_type": "code",
   "execution_count": null,
   "metadata": {},
   "outputs": [],
   "source": [
    "ans = True\n",
    "while (ans):\n",
    "    user_res = input(\"Enter the movie which you have in mind.\").lower()\n",
    "    num = int(input(\"How many such similar movies do you want??\"))\n",
    "    ans = recommend(user_res,num)"
   ]
  },
  {
   "cell_type": "code",
   "execution_count": null,
   "metadata": {},
   "outputs": [],
   "source": []
  }
 ],
 "metadata": {
  "kernelspec": {
   "display_name": "Python 3",
   "language": "python",
   "name": "python3"
  },
  "language_info": {
   "codemirror_mode": {
    "name": "ipython",
    "version": 3
   },
   "file_extension": ".py",
   "mimetype": "text/x-python",
   "name": "python",
   "nbconvert_exporter": "python",
   "pygments_lexer": "ipython3",
   "version": "3.7.6"
  }
 },
 "nbformat": 4,
 "nbformat_minor": 4
}
