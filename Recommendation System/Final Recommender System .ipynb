{
 "cells": [
  {
   "cell_type": "code",
   "execution_count": 1,
   "metadata": {},
   "outputs": [],
   "source": [
    "import pandas as pd\n",
    "import numpy as np\n",
    "import nltk\n",
    "from rake_nltk import Rake\n",
    "from sklearn.feature_extraction.text import CountVectorizer\n",
    "from sklearn.metrics.pairwise import cosine_similarity\n",
    "import matplotlib.pyplot as plt\n",
    "pd.options.mode.chained_assignment = None"
   ]
  },
  {
   "cell_type": "code",
   "execution_count": 2,
   "metadata": {},
   "outputs": [
    {
     "data": {
      "text/plain": [
       "(11527, 13)"
      ]
     },
     "execution_count": 2,
     "metadata": {},
     "output_type": "execute_result"
    }
   ],
   "source": [
    "df_movies = pd.read_csv(\"IMDb movies.csv\")\n",
    "df_ratings = pd.read_csv(\"IMDb ratings.csv\")\n",
    "\n",
    "df_movies = df_movies[['imdb_title_id','title', 'duration', 'year', 'genre', 'language', 'actors', 'director','description']]\n",
    "df_ratings = df_ratings[['imdb_title_id', 'mean_vote', 'weighted_average_vote','median_vote', 'total_votes']]\n",
    "df = pd.merge(df_movies, df_ratings, on='imdb_title_id')\n",
    "df.dropna(inplace = True)\n",
    "\n",
    "df2 = df[df['language'].str.contains(r'English')]\n",
    "df2 = df2.loc[(df2['mean_vote'] >= 6) & (df['total_votes'] >= 2000)] # Take all English Movies with Rating greater than 6\n",
    "df2 = df2[df2['year'] >= 1970]\n",
    "df3 = df[df['language'].str.contains(r'Tamil|Kannada|Telugu|Hindi|Malayalam')]\n",
    "df3 = df3[(df3['mean_vote'] >= 5) & (df3['total_votes'] >= 500)]\n",
    "\n",
    "df = pd.concat([df2,df3])\n",
    "df = df.apply(lambda x: x.str.lower() if(x.dtype == 'O') else x)\n",
    "df = df.drop_duplicates(subset=['title','year'], keep = 'last')\n",
    "df.reset_index(drop=True,inplace=True)\n",
    "df.shape\n"
   ]
  },
  {
   "cell_type": "code",
   "execution_count": 3,
   "metadata": {},
   "outputs": [],
   "source": [
    "df['Key_words'] = ''\n",
    "r = Rake()\n",
    "for index, row in df.iterrows():\n",
    "    r.extract_keywords_from_text(row['description'])\n",
    "    key_words_dict_scores = r.get_word_degrees()\n",
    "    row['Key_words'] = list(key_words_dict_scores.keys())\n",
    "    df['Key_words'][index] = row['Key_words']"
   ]
  },
  {
   "cell_type": "code",
   "execution_count": 4,
   "metadata": {},
   "outputs": [],
   "source": [
    "df['genre'] = df['genre'].map(lambda x: x.split(','))\n",
    "for index, row in df.iterrows():\n",
    "    row['genre'] = [x.lower().replace(' ','') for x in row['genre']]\n",
    "\n",
    "df['Bag_of_words'] = ''\n",
    "columns = ['Key_words', 'genre']\n",
    "for index, row in df.iterrows():\n",
    "    words = ''\n",
    "    for col in columns:\n",
    "        words += ' '.join(row[col]) + ' '\n",
    "    row['Bag_of_words'] = words\n",
    "    df['Bag_of_words'][index] = words\n",
    "dfn = df[['title','Bag_of_words']]"
   ]
  },
  {
   "cell_type": "code",
   "execution_count": 5,
   "metadata": {},
   "outputs": [],
   "source": [
    "def cosine_similarity_n_space(m1, m2, batch_size=10000):\n",
    "    assert m1.shape[1] == m2.shape[1]\n",
    "    ret = np.ndarray((m1.shape[0], m2.shape[0]))\n",
    "    for row_i in range(0, int(m1.shape[0] / batch_size) + 1):\n",
    "        start = row_i * batch_size\n",
    "        end = min([(row_i + 1) * batch_size, m1.shape[0]])\n",
    "        if end <= start:\n",
    "            break \n",
    "        rows = m1[start: end]\n",
    "        sim = cosine_similarity(rows, m2) \n",
    "        ret[start: end] = sim\n",
    "    return ret"
   ]
  },
  {
   "cell_type": "code",
   "execution_count": 6,
   "metadata": {},
   "outputs": [],
   "source": [
    "count = CountVectorizer()\n",
    "count_matrix = count.fit_transform(dfn['Bag_of_words'])\n",
    "csmain = cosine_similarity_n_space(count_matrix, count_matrix)"
   ]
  },
  {
   "cell_type": "code",
   "execution_count": null,
   "metadata": {},
   "outputs": [
    {
     "name": "stdout",
     "output_type": "stream",
     "text": [
      "ROBO: Please refer to Imdb for the exact movie Name.\n"
     ]
    }
   ],
   "source": [
    "indices = pd.Series(dfn['title'])\n",
    "def recommend(title, num=10, cosine_sim = csmain):\n",
    "    recommended_movies = []\n",
    "    try:\n",
    "        idx = indices[indices == title].index[0]\n",
    "        score_series = pd.Series(cosine_sim[idx]).sort_values(ascending = False)\n",
    "        top_10_indices = list(score_series.iloc[1:num+1].index)\n",
    "\n",
    "        for i in top_10_indices:\n",
    "            recommended_movies.append(list(dfn['title'])[i])\n",
    "        print(\"\\nGreat Choice. Here is the list of similar movies:\")\n",
    "        k = 1;\n",
    "        for i in recommended_movies:\n",
    "            print(k,i.title())\n",
    "            k+=1;\n",
    "        return False\n",
    "    except:\n",
    "        print(\"ROBO: I'm sorry but I could not find such a movie in our Database.\")\n",
    "        print(\"ROBO: I'd recommend you to check the spelling of the movie you entered.\")\n",
    "        print(\"ROBO: Also make sure it belongs to the same genre and language you had entered before.\")\n",
    "        return True\n",
    "\n",
    "ans = True\n",
    "while (ans):\n",
    "    print(\"ROBO: Please refer to Imdb for the exact movie Name.\")\n",
    "    user_res = input(\"Enter the movie which you have in mind.\\n\").lower()\n",
    "    num = int(input(\"How many such similar movies do you want??\\n\"))\n",
    "    ans = recommend(user_res,num)"
   ]
  },
  {
   "cell_type": "code",
   "execution_count": null,
   "metadata": {},
   "outputs": [],
   "source": []
  }
 ],
 "metadata": {
  "kernelspec": {
   "display_name": "Python 3",
   "language": "python",
   "name": "python3"
  },
  "language_info": {
   "codemirror_mode": {
    "name": "ipython",
    "version": 3
   },
   "file_extension": ".py",
   "mimetype": "text/x-python",
   "name": "python",
   "nbconvert_exporter": "python",
   "pygments_lexer": "ipython3",
   "version": "3.7.6"
  }
 },
 "nbformat": 4,
 "nbformat_minor": 4
}
